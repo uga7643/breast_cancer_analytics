{
 "cells": [
  {
   "cell_type": "markdown",
   "id": "fb93b3cc-7680-4f98-812e-608d9bcfda32",
   "metadata": {},
   "source": [
    "# preprocess of recurrence"
   ]
  },
  {
   "cell_type": "code",
   "execution_count": 1,
   "id": "2d992235-d9ef-4a88-a47e-2ed687ece7f1",
   "metadata": {},
   "outputs": [
    {
     "name": "stderr",
     "output_type": "stream",
     "text": [
      "/home/breast-cancer-analytics/notebooks/functions.py:196: FutureWarning: The default dtype for empty Series will be 'object' instead of 'float64' in a future version. Specify a dtype explicitly to silence this warning.\n",
      "  y_train: pd.Series(),\n",
      "/home/breast-cancer-analytics/notebooks/functions.py:198: FutureWarning: The default dtype for empty Series will be 'object' instead of 'float64' in a future version. Specify a dtype explicitly to silence this warning.\n",
      "  y_val: pd.Series(),\n"
     ]
    }
   ],
   "source": [
    "# 基本的なライブラリ\n",
    "import sys\n",
    "from tqdm import tqdm\n",
    "\n",
    "import numpy as np\n",
    "import pandas as pd\n",
    "import matplotlib.pyplot as plt\n",
    "\n",
    "\n",
    "# パイプライン\n",
    "from sklearn.pipeline import Pipeline\n",
    "from sklearn.base import BaseEstimator, TransformerMixin\n",
    "from pipelines import *\n",
    "\n",
    "# データ分割\n",
    "from sklearn.model_selection import train_test_split\n",
    "\n",
    "# スケーリング\n",
    "from sklearn.preprocessing import StandardScaler, MinMaxScaler\n",
    "\n",
    "# 次元削減\n",
    "from sklearn.decomposition import PCA\n",
    "\n",
    "import config\n",
    "import functions\n",
    "\n",
    "SEED = config.SEED\n",
    "functions.fix_seed(SEED)\n",
    "TARGET_NAME = [\"RFS_STATUS\", \"RFS_MONTHS\"]\n",
    "STRATIFY_NAME = \"RFS_STATUS\"\n",
    "%matplotlib inline"
   ]
  },
  {
   "cell_type": "markdown",
   "id": "e8994dbf-0e36-421e-aed3-8cb4e247aded",
   "metadata": {
    "tags": []
   },
   "source": [
    "# データ読み込み"
   ]
  },
  {
   "cell_type": "code",
   "execution_count": 2,
   "id": "af54eb16-b22c-4ec8-b2e2-bd7ce542e6a7",
   "metadata": {},
   "outputs": [],
   "source": [
    "df_patient = pd.read_table(\n",
    "    config.RAW_BRCA_METABRIC_DIR + \"/data_clinical_patient.txt\", header=4\n",
    ")\n",
    "df_sample = pd.read_table(\n",
    "    config.RAW_BRCA_METABRIC_DIR + \"/data_clinical_sample.txt\", header=4\n",
    ")\n",
    "df_clinical = pd.merge(df_patient, df_sample, on=\"PATIENT_ID\")"
   ]
  },
  {
   "cell_type": "markdown",
   "id": "a0c7f963-665a-42c0-a5e0-867c83be3490",
   "metadata": {
    "tags": []
   },
   "source": [
    "## カラムの順序変更（読みやすさのため）"
   ]
  },
  {
   "cell_type": "code",
   "execution_count": 3,
   "id": "e6d8c6c4-0913-4782-beb2-2efb2b7b6843",
   "metadata": {},
   "outputs": [],
   "source": [
    "def align_columns(df: pd.DataFrame, regex: str):\n",
    "    # まとめたいcolumnの正規表現を一時退避\n",
    "    _df = df.copy()\n",
    "    df_tmp = _df.filter(regex=regex)\n",
    "    # 元のdfから落とす\n",
    "    _df.drop(df_tmp.columns, axis=1, inplace=True)\n",
    "    # 元のdfに結合\n",
    "    return pd.merge(_df, df_tmp, right_index=True, left_index=True)\n",
    "\n",
    "\n",
    "def sort_columns_by_knowledge(df):\n",
    "    _df = df.copy()\n",
    "    # 癌の種類\n",
    "    _df = align_columns(_df, \"^CANCER_\")\n",
    "    # 重要そう（直感）な特徴量\n",
    "    _df = align_columns(_df, \"^ER_|^HER2_|^TUMOR_\")\n",
    "    # 治療の種類\n",
    "    _df = align_columns(_df, \".*THERAPY$|^BREAST_SURGERY\")\n",
    "    # target系の種類（OS, RFS, VITAL）\n",
    "    _df = align_columns(_df, \"^OS_.*|^RFS_.*|^VITAL_.*\")\n",
    "    return _df\n",
    "\n",
    "\n",
    "df_clinical = sort_columns_by_knowledge(df_clinical)"
   ]
  },
  {
   "cell_type": "code",
   "execution_count": 4,
   "id": "b6c8d29b-a433-4083-bb05-6f1f277181cc",
   "metadata": {},
   "outputs": [
    {
     "data": {
      "text/plain": [
       "(1985, 35)"
      ]
     },
     "metadata": {},
     "output_type": "display_data"
    },
    {
     "data": {
      "text/plain": [
       "(524, 35)"
      ]
     },
     "metadata": {},
     "output_type": "display_data"
    }
   ],
   "source": [
    "# データを大きく2つに分割できるので、ここで分割\n",
    "df_MB = df_clinical[df_clinical[\"PATIENT_ID\"].str.contains(\"MB\")]\n",
    "df_MTST = df_clinical[df_clinical[\"PATIENT_ID\"].str.contains(\"MTS-T\")]\n",
    "\n",
    "df_MB.set_index(\"PATIENT_ID\", inplace=True)\n",
    "df_MTST.set_index(\"PATIENT_ID\", inplace=True)\n",
    "\n",
    "display(df_MB.shape, df_MTST.shape)\n",
    "# save\n",
    "functions.make_dir(config.INTERIM_PREPROCESSED_RECURRENCE_DIR)\n",
    "df_clinical.to_pickle(config.INTERIM_PREPROCESSED_RECURRENCE_DIR + \"/df_clinical.pkl\")\n",
    "df_MB.to_pickle(config.INTERIM_PREPROCESSED_RECURRENCE_DIR + \"/df_MB.pkl\")\n",
    "df_MTST.to_pickle(config.INTERIM_PREPROCESSED_RECURRENCE_DIR + \"/df_MTST.pkl\")\n",
    "del df_patient, df_sample, df_clinical, df_MB, df_MTST"
   ]
  },
  {
   "cell_type": "markdown",
   "id": "73bca36f-6dc2-4ff9-9da8-8c819d4fb638",
   "metadata": {
    "tags": []
   },
   "source": [
    "## 臨床・遺伝子データの読み込み"
   ]
  },
  {
   "cell_type": "code",
   "execution_count": 5,
   "id": "67529b1e-6763-4afd-984e-07c3e825583a",
   "metadata": {},
   "outputs": [],
   "source": [
    "# 臨床データ\n",
    "df_MB = pd.read_pickle(config.INTERIM_PREPROCESSED_RECURRENCE_DIR + \"/df_MB.pkl\")\n",
    "\n",
    "# 遺伝子発現データ\n",
    "# 生の遺伝子発現データ\n",
    "df_mrna_agilent_microarray = pd.read_table(\n",
    "    config.RAW_BRCA_METABRIC_DIR + \"/data_mrna_agilent_microarray.txt\", index_col=0\n",
    ").T\n",
    "df_mrna_agilent_microarray = df_mrna_agilent_microarray.drop(\n",
    "    \"Entrez_Gene_Id\"\n",
    ").sort_index()"
   ]
  },
  {
   "cell_type": "markdown",
   "id": "fa3b5ac2-d843-4e66-99ff-947f3822a874",
   "metadata": {},
   "source": [
    "# 前処理\n",
    "- 目的変数生成\n",
    "- 特徴量生成\n",
    "- 特徴名のrename \n",
    "- 欠損値の削除\n",
    "\n",
    "\n",
    "## 目的変数の生成\n",
    "\n",
    "目的変数は再発年数（連続値）である。しかし、RFS_STATUSが0の患者は非再発であり、RFS_MONTHSは手術〜最終フォローアップの期間を示している。\n",
    "そこで、非再発患者のRFS_MONTHSは0にする必要がある。\n",
    "\n",
    "## 特徴量生成\n",
    "予測の**層別化に必要な特徴を生成**する。\n",
    "\n",
    "**層別化に必要な特徴**\n",
    "- CLAUDIN_SUBTYPE\n",
    "- NPI\n",
    "- TUMOR_SIZE\n",
    "- LYMPH_NODES_EXAMINED_POSITIVE\n",
    "\n",
    "数値データは層別化のためにカテゴリ化を行う。\n",
    "各カテゴリ化の根拠は以下の通り。\n",
    "- NPI：( ノッティンガムの予後指数：https://en.wikipedia.org/wiki/Nottingham_Prognostic_Index )\n",
    "- TUMOR_SIZE：乳癌のステージの定義( https://oshiete-gan.jp/breast/diagnosis/stages/detail.html )\n",
    "- LYMPH_NODES_EXAMINED_POSITIVE：https://medical.nikkeibp.co.jp/leaf/all/cancernavi/news/201403/535575.html\n",
    "\n",
    "## 特徴量名のrename\n",
    "重複した特徴量は別のものとして扱う\n",
    "\n",
    "\n",
    "## 欠損値の削除\n",
    "- 欠損値が多い→特徴量の削除  \n",
    "- 欠損値が少ない→サンプルの削除"
   ]
  },
  {
   "cell_type": "code",
   "execution_count": 6,
   "id": "e8f54d52-bf1a-41da-a455-2ff21eda8056",
   "metadata": {},
   "outputs": [],
   "source": [
    "def generate_target():\n",
    "    # RFS_STATUS, RFS_MONTHSのnullデータについては患者データを削除する\n",
    "    df_MB.dropna(subset=[\"RFS_STATUS\", \"RFS_MONTHS\"], inplace=True)\n",
    "    # 予測ラベルを扱いやすい形に変更\n",
    "    # scikit-survivalの予測モデルでは、RFS_STATUSがboolである必要がある（イベント発生がTrue, 打ち切りがFalse）\n",
    "    df_MB[\"RFS_STATUS\"] = df_MB[\"RFS_STATUS\"].replace(\n",
    "        {\"1:Recurred\": True, \"0:Not Recurred\": False}\n",
    "    )\n",
    "\n",
    "\n",
    "def generate_features():\n",
    "    df_MB[\"NPI_CAT\"] = pd.cut(\n",
    "        df_MB.NPI,\n",
    "        [0, 2.0, 2.4, 3.4, 5.4, np.inf],\n",
    "        labels=[\"0.0~2.0\", \"2.0~2.4\", \"2.4~3.4\", \"3.4~5.4\", \"5.4~inf\"],\n",
    "    )\n",
    "    df_MB[\"TUMOR_CAT\"] = pd.cut(\n",
    "        df_MB.TUMOR_SIZE, [0, 20, 50, np.inf], labels=[\"0~20\", \"20~50\", \"50~inf\"]\n",
    "    )\n",
    "    df_MB[\"LYMPH_CAT\"] = pd.cut(\n",
    "        df_MB.LYMPH_NODES_EXAMINED_POSITIVE,\n",
    "        [-np.inf, 0, 3, np.inf],\n",
    "        labels=[\"0\", \"1~3\", \"4~inf\"],\n",
    "    )\n",
    "\n",
    "\n",
    "def rename_duplicatged_columns(df):\n",
    "    _df = df.copy()\n",
    "    # 重複特徴量の確認\n",
    "    print(\n",
    "        \"重複特徴名数（rename前）：\",\n",
    "        _df.columns[_df.columns.duplicated()].value_counts().sum(),\n",
    "    )\n",
    "\n",
    "    cols = pd.Series(_df.columns)\n",
    "    for dup in cols[cols.duplicated()].unique():\n",
    "        cols[cols[cols == dup].index.values.tolist()] = [\n",
    "            dup + \"_\" + str(i) if i != 0 else dup for i in range(sum(cols == dup))\n",
    "        ]\n",
    "\n",
    "    # rename the columns with the cols list.\n",
    "    _df.columns = cols\n",
    "    # 重複特徴量の確認\n",
    "    print(\n",
    "        \"重複特徴名数（rename後）：\",\n",
    "        _df.columns[_df.columns.duplicated()].value_counts().sum(),\n",
    "    )\n",
    "    return _df\n",
    "\n",
    "\n",
    "def drop_null4cols(df):\n",
    "    _df = df.copy()\n",
    "    print(\n",
    "        \"欠損値が多い特徴個数：\",\n",
    "        (_df.isnull().sum() > _df.shape[0] // 10).sum(),\n",
    "    )\n",
    "    features = _df.isnull().sum().sort_values()[::-1]\n",
    "    features.plot()\n",
    "\n",
    "    # 多数の欠損値を持つ特徴\n",
    "    many_null_features = features[_df.isnull().sum() > _df.shape[0] // 10].index\n",
    "    # 多数の欠損値を持つ特徴の削除\n",
    "    _df.drop(many_null_features, axis=1, inplace=True)\n",
    "    return _df\n",
    "\n",
    "\n",
    "def drop_null4raws(df):\n",
    "    _df = df.copy()\n",
    "    print(\n",
    "        \"欠損値が少ない特徴個数：\",\n",
    "        ((_df.isnull().sum() < +_df.shape[0] // 10) & (_df.isnull().sum() > 0)).sum(),\n",
    "    )\n",
    "    features = _df.isnull().sum().sort_values()[::-1]\n",
    "    features.plot()\n",
    "\n",
    "    # 少数の欠損値を持つ特徴\n",
    "    few_null_features = features[\n",
    "        (_df.isnull().sum() <= _df.shape[0] // 10) & (_df.isnull().sum() > 0)\n",
    "    ]\n",
    "    # 少数の欠損値の遺伝子発現を持つ患者ID\n",
    "    list_patient_id_contains_null_expressions = list()\n",
    "    for name in few_null_features.index:\n",
    "        for patient_id in _df[_df[name].isnull()].index:\n",
    "            list_patient_id_contains_null_expressions.append(patient_id)\n",
    "\n",
    "    # 少数の欠損値の遺伝子発現を持つ患者の削除\n",
    "    _df.drop(list_patient_id_contains_null_expressions, inplace=True)\n",
    "    return _df"
   ]
  },
  {
   "cell_type": "code",
   "execution_count": 7,
   "id": "3c265983-f227-4faa-86d5-25ac6c2a0671",
   "metadata": {},
   "outputs": [
    {
     "name": "stdout",
     "output_type": "stream",
     "text": [
      "重複特徴名数（rename前）： 0\n",
      "重複特徴名数（rename後）： 0\n",
      "欠損値が多い特徴個数： 0\n",
      "欠損値が少ない特徴個数： 11\n"
     ]
    },
    {
     "data": {
      "image/png": "[encoded data removed]",
      "text/plain": [
       "<Figure size 640x480 with 1 Axes>"
      ]
     },
     "metadata": {},
     "output_type": "display_data"
    }
   ],
   "source": [
    "# 臨床データ\n",
    "generate_target()\n",
    "generate_features()\n",
    "# 遺伝子データ\n",
    "df_gene_expressions = df_mrna_agilent_microarray.copy()\n",
    "df_gene_expressions = rename_duplicatged_columns(df_gene_expressions)\n",
    "df_gene_expressions = drop_null4cols(df_gene_expressions)\n",
    "df_gene_expressions = drop_null4raws(df_gene_expressions)\n",
    "# save\n",
    "functions.make_dir(config.INTERIM_PREPROCESSED_RECURRENCE_DIR)\n",
    "df_gene_expressions.to_pickle(\n",
    "    config.INTERIM_PREPROCESSED_RECURRENCE_DIR + \"/df_gene_expressions.pkl\"\n",
    ")"
   ]
  },
  {
   "cell_type": "markdown",
   "id": "b246efeb-3fdd-4192-95a3-b1a5ef3bbd0b",
   "metadata": {
    "tags": []
   },
   "source": [
    "# 臨床データと遺伝子データの結合\n",
    "\n",
    "患者の必要な特徴を含む臨床データと遺伝子データを結合する。\n",
    "\n",
    "## 臨床データ\n",
    "\n",
    "**必要な特徴**\n",
    "\n",
    "目的変数\n",
    "- RFS_OVER_nMONTHS  \n",
    "\n",
    "層別化対象候補\n",
    "- CLAUDIN_SUBTYPE\n",
    "- NPI_CAT\n",
    "- TUMOR_CAT\n",
    "- LYMPH_CAT\n",
    "\n",
    "## 遺伝子データ\n",
    "遺伝子データは全ての特徴量を結合する。"
   ]
  },
  {
   "cell_type": "code",
   "execution_count": 8,
   "id": "f87a9c8c-799d-492b-ad6e-3a0549d91063",
   "metadata": {},
   "outputs": [],
   "source": [
    "left_features = [\n",
    "    \"RFS_MONTHS\",\n",
    "    \"RFS_STATUS\",\n",
    "    \"CLAUDIN_SUBTYPE\",\n",
    "    \"THREEGENE\",\n",
    "]\n",
    "\n",
    "df_merged = pd.merge(\n",
    "    df_MB[left_features],\n",
    "    df_gene_expressions,\n",
    "    left_index=True,\n",
    "    right_index=True,\n",
    ")\n",
    "# 半角スペースやバックスラッシュはpklファイル保存時に邪魔になるので置き換え\n",
    "df_merged[\"THREEGENE\"] = df_merged.THREEGENE.str.replace(\"/\", \"_\")\n",
    "df_merged[\"THREEGENE\"] = df_merged.THREEGENE.str.replace(\" \", \"_\")\n",
    "\n",
    "# save\n",
    "functions.make_dir(config.INTERIM_PREPROCESSED_RECURRENCE_DIR)\n",
    "df_merged.to_pickle(\n",
    "    config.INTERIM_PREPROCESSED_RECURRENCE_DIR + \"/df_merged4numeric.pkl\"\n",
    ")\n",
    "df_recurrenced = df_merged.copy()\n",
    "# save\n",
    "functions.make_dir(config.INTERIM_PREPROCESSED_RECURRENCE_DIR)\n",
    "df_merged.to_pickle(\n",
    "    config.INTERIM_PREPROCESSED_RECURRENCE_DIR + \"/df_recurrenced4numeric.pkl\"\n",
    ")"
   ]
  },
  {
   "cell_type": "markdown",
   "id": "0284746c-8c80-4c32-86b5-34e1d48047b2",
   "metadata": {
    "tags": []
   },
   "source": [
    "## データ分割\n",
    "\n",
    "訓練データ、検証データ、テストデータに層化分割する   \n",
    "比率は(train, val, test)=(0.81, 0.09, 0.1)  \n",
    "CVは行わずに通常のholdoutで検証は行う（特徴選択を毎度実施するのが厄介なため）\n"
   ]
  },
  {
   "cell_type": "code",
   "execution_count": 9,
   "id": "76e02b5c-90c3-40a6-94d3-efecef50364f",
   "metadata": {},
   "outputs": [],
   "source": [
    "# データ分割のためのクラス\n",
    "# pythonのミュータブルオブジェクトの外部操作を防ぐためにcopy()の使用&private化\n",
    "class SplitDataFrame:\n",
    "    def __init__(self, df, train_size: float = 0.9):\n",
    "        self.__df = df.copy()\n",
    "        self.__train_size = train_size\n",
    "\n",
    "        self.__df_train = None\n",
    "        self.__df_val = None\n",
    "        self.__df_train_val = None\n",
    "        self.__df_test = None\n",
    "\n",
    "        self.__X_train = None\n",
    "        self.__y_train = None\n",
    "        self.__X_val = None\n",
    "        self.__y_val = None\n",
    "        self.__X_train_val = None\n",
    "        self.__y_train_val = None\n",
    "        self.__X_test = None\n",
    "        self.__y_test = None\n",
    "\n",
    "    def split_train_val_test(self):\n",
    "        # train & test\n",
    "        self.__df_train_val, self.__df_test = train_test_split(\n",
    "            self.__df,\n",
    "            train_size=self.__train_size,\n",
    "            stratify=self.__df[STRATIFY_NAME],\n",
    "            random_state=SEED,\n",
    "        )\n",
    "        # train & val\n",
    "        self.__df_train, self.__df_val = train_test_split(\n",
    "            self.__df_train_val,\n",
    "            train_size=self.__train_size,\n",
    "            stratify=self.__df_train_val[STRATIFY_NAME],\n",
    "            random_state=SEED,\n",
    "        )\n",
    "\n",
    "    def split_X_y(self):\n",
    "        self.__X_train, self.__y_train = (\n",
    "            self.__df_train.drop(TARGET_NAME, axis=1),\n",
    "            self.__df_train[TARGET_NAME],\n",
    "        )\n",
    "        self.__X_val, self.__y_val = (\n",
    "            self.__df_val.drop(TARGET_NAME, axis=1),\n",
    "            self.__df_val[TARGET_NAME],\n",
    "        )\n",
    "        self.__X_train_val, self.__y_train_val = (\n",
    "            self.__df_train_val.drop(TARGET_NAME, axis=1),\n",
    "            self.__df_train_val[TARGET_NAME],\n",
    "        )\n",
    "        self.__X_test, self.__y_test = (\n",
    "            self.__df_test.drop(TARGET_NAME, axis=1),\n",
    "            self.__df_test[TARGET_NAME],\n",
    "        )\n",
    "\n",
    "    def get_train_val(self):\n",
    "        return self.__train_val.copy()\n",
    "\n",
    "    def get_train(self):\n",
    "        return self.__train.copy()\n",
    "\n",
    "    def get_val(self):\n",
    "        return self.__val.copy()\n",
    "\n",
    "    def get_test(self):\n",
    "        return self.__test.copy()\n",
    "\n",
    "    def get_train_val_Xy(self):\n",
    "        return self.__X_train_val.copy(), self.__y_train_val.copy()\n",
    "\n",
    "    def get_train_Xy(self):\n",
    "        return self.__X_train.copy(), self.__y_train.copy()\n",
    "\n",
    "    def get_val_Xy(self):\n",
    "        return self.__X_val.copy(), self.__y_val.copy()\n",
    "\n",
    "    def get_test_Xy(self):\n",
    "        return self.__X_test.copy(), self.__y_test.copy()"
   ]
  },
  {
   "cell_type": "markdown",
   "id": "e81f2471-eba7-4480-9bd9-d92af3e73881",
   "metadata": {},
   "source": [
    "# 前処理パイプライン"
   ]
  },
  {
   "cell_type": "code",
   "execution_count": 10,
   "id": "b3b06588-8a4f-490e-a67a-2b422e4aae37",
   "metadata": {},
   "outputs": [],
   "source": [
    "def save_preprocessed_df(\n",
    "    list_train: list(),\n",
    "    list_test: list(),\n",
    "    val_step: str,\n",
    "    save_file_path: str = \".\",\n",
    "):\n",
    "    \"\"\"\n",
    "    params\n",
    "    list_train: [X_train, y_train]\n",
    "    list_test: [X_test, y_test]\n",
    "    \"\"\"\n",
    "    # 検証用データセットの保存\n",
    "    train_path = \"{0}/{1}/train\".format(save_file_path, val_step)\n",
    "    test_path = \"{0}/{1}/test\".format(save_file_path, val_step)\n",
    "\n",
    "    functions.make_dir(train_path)\n",
    "    functions.pickle_dump(list_train[0], \"{0}/X.pkl\".format(train_path))\n",
    "    functions.pickle_dump(list_train[1], \"{0}/y.pkl\".format(train_path))\n",
    "    functions.make_dir(test_path)\n",
    "    functions.pickle_dump(list_test[0], \"{0}/X.pkl\".format(test_path))\n",
    "    functions.pickle_dump(list_test[1], \"{0}/y.pkl\".format(test_path))\n",
    "\n",
    "\n",
    "def save_preprocess_pipeline(\n",
    "    pipeline: callable,\n",
    "    val_step: str,\n",
    "    save_file_path: str = \".\",\n",
    "):\n",
    "    # 検証用データセットの保存\n",
    "    train_path = \"{0}/{1}/train\".format(save_file_path, val_step)\n",
    "    test_path = \"{0}/{1}/test\".format(save_file_path, val_step)\n",
    "\n",
    "    functions.make_dir(train_path)\n",
    "    functions.pickle_dump(pipeline, \"{0}/preprocess_pipeline.pkl\".format(train_path))\n",
    "    functions.make_dir(test_path)\n",
    "    functions.pickle_dump(pipeline, \"{0}/preprocess_pipeline.pkl\".format(test_path))"
   ]
  },
  {
   "cell_type": "code",
   "execution_count": 11,
   "id": "d083aad7-13f3-4d8e-9248-cc69a888a3df",
   "metadata": {},
   "outputs": [],
   "source": [
    "def skip_preprocess(df: pd.DataFrame()) -> bool:\n",
    "    \"\"\"\n",
    "    入力データフレームを前処理するか判断\n",
    "\n",
    "    True: 前処理をする\n",
    "    False: 前処理をしない\n",
    "    \"\"\"\n",
    "    return True if df.shape[0] > 100 else False\n",
    "\n",
    "\n",
    "def apply_preprocess(\n",
    "    df: pd.DataFrame(),\n",
    "    preprocess_order: dict = {\"original_data\": []},\n",
    "    save_file_path: str = None,\n",
    "):\n",
    "    _df = df.copy()\n",
    "\n",
    "    # データが少なすぎる場合は特徴選択しない\n",
    "    if not skip_preprocess(_df):\n",
    "        return\n",
    "\n",
    "    # データ分割\n",
    "    _sp = SplitDataFrame(_df)\n",
    "    _sp.split_train_val_test()\n",
    "    _sp.split_X_y()\n",
    "\n",
    "    _X_train, _y_train = _sp.get_train_Xy()\n",
    "    _X_val, _y_val = _sp.get_val_Xy()\n",
    "    _X_train_val, _y_train_val = _sp.get_train_val_Xy()\n",
    "    _X_test, _y_test = _sp.get_test_Xy()\n",
    "\n",
    "    # train&val と train_val&test のそれぞれのセットに適用\n",
    "    dict_datasets = {\n",
    "        \"val_set\": [[_X_train, _y_train], [_X_val, _y_val]],\n",
    "        \"test_set\": [[_X_train_val, _y_train_val], [_X_test, _y_test]],\n",
    "    }\n",
    "    # 検証用、テスト用それぞれのセットへのパイプラインの適用\n",
    "    for key, values in dict_datasets.items():\n",
    "        # set_config(display=\"diagram\")\n",
    "        _preprocess_pipeline = Pipeline(steps=preprocess_order)\n",
    "        _preprocess_pipeline.fit(values[0][0], values[0][1])\n",
    "        values[0][0] = _preprocess_pipeline.transform(values[0][0])\n",
    "        values[1][0] = _preprocess_pipeline.transform(values[1][0])\n",
    "\n",
    "        print(\n",
    "            \"X_train: \",\n",
    "            values[0][0].shape,\n",
    "            \" X_test: \",\n",
    "            values[1][0].shape,\n",
    "        )\n",
    "\n",
    "        # 保存\n",
    "        if save_file_path:\n",
    "            save_preprocessed_df(\n",
    "                list_train=[values[0][0], values[0][1]],\n",
    "                list_test=[values[1][0], values[1][1]],\n",
    "                val_step=key,\n",
    "                save_file_path=save_file_path,\n",
    "            )\n",
    "            save_preprocess_pipeline(\n",
    "                _preprocess_pipeline,\n",
    "                val_step=key,\n",
    "                save_file_path=save_file_path,\n",
    "            )"
   ]
  },
  {
   "cell_type": "code",
   "execution_count": 12,
   "id": "9ce7de78-fd00-4497-ae54-c431e32b5184",
   "metadata": {},
   "outputs": [],
   "source": [
    "def loop_preprocess():\n",
    "    # 層別化する特徴量\n",
    "    subgroup_columns = [\n",
    "        \"CLAUDIN_SUBTYPE\",\n",
    "        # \"THREEGENE\",\n",
    "    ]\n",
    "    # 遺伝子発現量以外の特徴量を削除\n",
    "    drop_columns = [\n",
    "        \"CLAUDIN_SUBTYPE\",\n",
    "        \"THREEGENE\",\n",
    "    ]\n",
    "\n",
    "    # 実施したい前処理パイプラインの定義\n",
    "    preprocess_order_dicts = [\n",
    "        {\n",
    "            \"preprocess_name\": \"preprocess4numeric_pca{0}\".format(PCA_PERCENTILE),\n",
    "            \"preprocess_order\": [\n",
    "                (\n",
    "                    StandardScalerAsDataFrame().__class__.__name__,\n",
    "                    StandardScalerAsDataFrame(),\n",
    "                ),\n",
    "                (\n",
    "                    PCA().__class__.__name__,\n",
    "                    PCA(n_components=PCA_PERCENTILE / 100, random_state=config.SEED),\n",
    "                ),\n",
    "            ],\n",
    "        },\n",
    "    ]\n",
    "\n",
    "    for subgroup_column in subgroup_columns:  # 各サブグループへの適用\n",
    "        for subgroup in df_recurrenced[subgroup_column].unique():  # サブグループの要素毎への適用\n",
    "            df = df_recurrenced[df_recurrenced[subgroup_column] == subgroup].drop(\n",
    "                drop_columns, axis=1\n",
    "            )\n",
    "            print(subgroup, \": \", df.shape)\n",
    "            for preprocess_order_dict in preprocess_order_dicts:\n",
    "                output_data_path = \"./{0}/{1}/{2}/{3}\".format(\n",
    "                    config.INTERIM_PREPROCESSED_RECURRENCE_DIR,\n",
    "                    subgroup_column,\n",
    "                    subgroup,\n",
    "                    preprocess_order_dict[\"preprocess_name\"],\n",
    "                )\n",
    "                apply_preprocess(\n",
    "                    df,\n",
    "                    preprocess_order=preprocess_order_dict[\"preprocess_order\"],\n",
    "                    save_file_path=output_data_path,\n",
    "                )"
   ]
  },
  {
   "cell_type": "code",
   "execution_count": 13,
   "id": "64b7ccd2-8249-41e6-8986-54075f6db791",
   "metadata": {
    "tags": []
   },
   "outputs": [
    {
     "name": "stderr",
     "output_type": "stream",
     "text": [
      "  0%|                                                                                            | 0/70 [00:00<?, ?it/s]"
     ]
    },
    {
     "name": "stdout",
     "output_type": "stream",
     "text": [
      "++++++++++++++++++++++++++++++++++++++++++++++++++++++++++++++++++++++++++++++++++++++++++++++++++++\n",
      "25\n",
      "claudin-low :  (214, 20605)\n",
      "X_train:  (172, 5)  X_test:  (20, 5)\n",
      "X_train:  (192, 5)  X_test:  (22, 5)\n",
      "LumA :  (690, 20605)\n",
      "X_train:  (558, 9)  X_test:  (63, 9)\n",
      "X_train:  (621, 9)  X_test:  (69, 9)\n",
      "LumB :  (474, 20605)\n",
      "X_train:  (383, 9)  X_test:  (43, 9)\n",
      "X_train:  (426, 9)  X_test:  (48, 9)\n",
      "Normal :  (147, 20605)\n",
      "X_train:  (118, 5)  X_test:  (14, 5)\n",
      "X_train:  (132, 6)  X_test:  (15, 6)\n",
      "Her2 :  (223, 20605)\n",
      "X_train:  (180, 6)  X_test:  (20, 6)\n",
      "X_train:  (200, 6)  X_test:  (23, 6)\n",
      "Basal :  (209, 20605)\n",
      "X_train:  (169, 8)  X_test:  (19, 8)\n"
     ]
    },
    {
     "name": "stderr",
     "output_type": "stream",
     "text": [
      "  1%|█▏                                                                                  | 1/70 [00:31<36:33, 31.79s/it]"
     ]
    },
    {
     "name": "stdout",
     "output_type": "stream",
     "text": [
      "X_train:  (188, 8)  X_test:  (21, 8)\n",
      "NC :  (6, 20605)\n",
      "++++++++++++++++++++++++++++++++++++++++++++++++++++++++++++++++++++++++++++++++++++++++++++++++++++\n",
      "26\n",
      "claudin-low :  (214, 20605)\n",
      "X_train:  (172, 6)  X_test:  (20, 6)\n",
      "X_train:  (192, 6)  X_test:  (22, 6)\n",
      "LumA :  (690, 20605)\n",
      "X_train:  (558, 9)  X_test:  (63, 9)\n",
      "X_train:  (621, 10)  X_test:  (69, 10)\n",
      "LumB :  (474, 20605)\n",
      "X_train:  (383, 10)  X_test:  (43, 10)\n",
      "X_train:  (426, 10)  X_test:  (48, 10)\n",
      "Normal :  (147, 20605)\n",
      "X_train:  (118, 6)  X_test:  (14, 6)\n",
      "X_train:  (132, 6)  X_test:  (15, 6)\n",
      "Her2 :  (223, 20605)\n",
      "X_train:  (180, 6)  X_test:  (20, 6)\n",
      "X_train:  (200, 6)  X_test:  (23, 6)\n",
      "Basal :  (209, 20605)\n",
      "X_train:  (169, 8)  X_test:  (19, 8)\n"
     ]
    },
    {
     "name": "stderr",
     "output_type": "stream",
     "text": [
      "  3%|██▍                                                                                 | 2/70 [00:50<27:37, 24.37s/it]"
     ]
    },
    {
     "name": "stdout",
     "output_type": "stream",
     "text": [
      "X_train:  (188, 8)  X_test:  (21, 8)\n",
      "NC :  (6, 20605)\n",
      "++++++++++++++++++++++++++++++++++++++++++++++++++++++++++++++++++++++++++++++++++++++++++++++++++++\n",
      "27\n",
      "claudin-low :  (214, 20605)\n",
      "X_train:  (172, 6)  X_test:  (20, 6)\n",
      "X_train:  (192, 6)  X_test:  (22, 6)\n",
      "LumA :  (690, 20605)\n",
      "X_train:  (558, 10)  X_test:  (63, 10)\n",
      "X_train:  (621, 10)  X_test:  (69, 10)\n",
      "LumB :  (474, 20605)\n",
      "X_train:  (383, 11)  X_test:  (43, 11)\n",
      "X_train:  (426, 11)  X_test:  (48, 11)\n",
      "Normal :  (147, 20605)\n",
      "X_train:  (118, 6)  X_test:  (14, 6)\n",
      "X_train:  (132, 6)  X_test:  (15, 6)\n",
      "Her2 :  (223, 20605)\n",
      "X_train:  (180, 7)  X_test:  (20, 7)\n",
      "X_train:  (200, 7)  X_test:  (23, 7)\n",
      "Basal :  (209, 20605)\n",
      "X_train:  (169, 9)  X_test:  (19, 9)\n"
     ]
    },
    {
     "name": "stderr",
     "output_type": "stream",
     "text": [
      "  4%|███▌                                                                                | 3/70 [01:09<24:28, 21.92s/it]"
     ]
    },
    {
     "name": "stdout",
     "output_type": "stream",
     "text": [
      "X_train:  (188, 9)  X_test:  (21, 9)\n",
      "NC :  (6, 20605)\n",
      "++++++++++++++++++++++++++++++++++++++++++++++++++++++++++++++++++++++++++++++++++++++++++++++++++++\n",
      "28\n",
      "claudin-low :  (214, 20605)\n",
      "X_train:  (172, 6)  X_test:  (20, 6)\n",
      "X_train:  (192, 6)  X_test:  (22, 6)\n",
      "LumA :  (690, 20605)\n",
      "X_train:  (558, 11)  X_test:  (63, 11)\n",
      "X_train:  (621, 11)  X_test:  (69, 11)\n",
      "LumB :  (474, 20605)\n",
      "X_train:  (383, 12)  X_test:  (43, 12)\n",
      "X_train:  (426, 12)  X_test:  (48, 12)\n",
      "Normal :  (147, 20605)\n",
      "X_train:  (118, 7)  X_test:  (14, 7)\n",
      "X_train:  (132, 7)  X_test:  (15, 7)\n",
      "Her2 :  (223, 20605)\n",
      "X_train:  (180, 7)  X_test:  (20, 7)\n",
      "X_train:  (200, 8)  X_test:  (23, 8)\n",
      "Basal :  (209, 20605)\n",
      "X_train:  (169, 10)  X_test:  (19, 10)\n"
     ]
    },
    {
     "name": "stderr",
     "output_type": "stream",
     "text": [
      "  6%|████▊                                                                               | 4/70 [01:28<22:28, 20.44s/it]"
     ]
    },
    {
     "name": "stdout",
     "output_type": "stream",
     "text": [
      "X_train:  (188, 10)  X_test:  (21, 10)\n",
      "NC :  (6, 20605)\n",
      "++++++++++++++++++++++++++++++++++++++++++++++++++++++++++++++++++++++++++++++++++++++++++++++++++++\n",
      "29\n",
      "claudin-low :  (214, 20605)\n",
      "X_train:  (172, 7)  X_test:  (20, 7)\n",
      "X_train:  (192, 7)  X_test:  (22, 7)\n",
      "LumA :  (690, 20605)\n",
      "X_train:  (558, 12)  X_test:  (63, 12)\n",
      "X_train:  (621, 12)  X_test:  (69, 12)\n",
      "LumB :  (474, 20605)\n",
      "X_train:  (383, 13)  X_test:  (43, 13)\n",
      "X_train:  (426, 13)  X_test:  (48, 13)\n",
      "Normal :  (147, 20605)\n",
      "X_train:  (118, 7)  X_test:  (14, 7)\n",
      "X_train:  (132, 7)  X_test:  (15, 7)\n",
      "Her2 :  (223, 20605)\n",
      "X_train:  (180, 8)  X_test:  (20, 8)\n",
      "X_train:  (200, 8)  X_test:  (23, 8)\n",
      "Basal :  (209, 20605)\n",
      "X_train:  (169, 10)  X_test:  (19, 10)\n"
     ]
    },
    {
     "name": "stderr",
     "output_type": "stream",
     "text": [
      "  7%|██████                                                                              | 5/70 [01:46<21:14, 19.61s/it]"
     ]
    },
    {
     "name": "stdout",
     "output_type": "stream",
     "text": [
      "X_train:  (188, 10)  X_test:  (21, 10)\n",
      "NC :  (6, 20605)\n",
      "++++++++++++++++++++++++++++++++++++++++++++++++++++++++++++++++++++++++++++++++++++++++++++++++++++\n",
      "30\n",
      "claudin-low :  (214, 20605)\n",
      "X_train:  (172, 7)  X_test:  (20, 7)\n",
      "X_train:  (192, 7)  X_test:  (22, 7)\n",
      "LumA :  (690, 20605)\n",
      "X_train:  (558, 13)  X_test:  (63, 13)\n",
      "X_train:  (621, 13)  X_test:  (69, 13)\n",
      "LumB :  (474, 20605)\n",
      "X_train:  (383, 14)  X_test:  (43, 14)\n",
      "X_train:  (426, 14)  X_test:  (48, 14)\n",
      "Normal :  (147, 20605)\n",
      "X_train:  (118, 7)  X_test:  (14, 7)\n",
      "X_train:  (132, 8)  X_test:  (15, 8)\n",
      "Her2 :  (223, 20605)\n",
      "X_train:  (180, 9)  X_test:  (20, 9)\n",
      "X_train:  (200, 9)  X_test:  (23, 9)\n",
      "Basal :  (209, 20605)\n",
      "X_train:  (169, 11)  X_test:  (19, 11)\n"
     ]
    },
    {
     "name": "stderr",
     "output_type": "stream",
     "text": [
      "  9%|███████▏                                                                            | 6/70 [02:03<20:04, 18.82s/it]"
     ]
    },
    {
     "name": "stdout",
     "output_type": "stream",
     "text": [
      "X_train:  (188, 11)  X_test:  (21, 11)\n",
      "NC :  (6, 20605)\n",
      "++++++++++++++++++++++++++++++++++++++++++++++++++++++++++++++++++++++++++++++++++++++++++++++++++++\n",
      "31\n",
      "claudin-low :  (214, 20605)\n",
      "X_train:  (172, 8)  X_test:  (20, 8)\n",
      "X_train:  (192, 8)  X_test:  (22, 8)\n",
      "LumA :  (690, 20605)\n",
      "X_train:  (558, 14)  X_test:  (63, 14)\n",
      "X_train:  (621, 14)  X_test:  (69, 14)\n",
      "LumB :  (474, 20605)\n",
      "X_train:  (383, 15)  X_test:  (43, 15)\n",
      "X_train:  (426, 15)  X_test:  (48, 15)\n",
      "Normal :  (147, 20605)\n",
      "X_train:  (118, 8)  X_test:  (14, 8)\n",
      "X_train:  (132, 8)  X_test:  (15, 8)\n",
      "Her2 :  (223, 20605)\n",
      "X_train:  (180, 9)  X_test:  (20, 9)\n",
      "X_train:  (200, 9)  X_test:  (23, 9)\n",
      "Basal :  (209, 20605)\n",
      "X_train:  (169, 12)  X_test:  (19, 12)\n"
     ]
    },
    {
     "name": "stderr",
     "output_type": "stream",
     "text": [
      " 10%|████████▍                                                                           | 7/70 [02:21<19:28, 18.55s/it]"
     ]
    },
    {
     "name": "stdout",
     "output_type": "stream",
     "text": [
      "X_train:  (188, 12)  X_test:  (21, 12)\n",
      "NC :  (6, 20605)\n",
      "++++++++++++++++++++++++++++++++++++++++++++++++++++++++++++++++++++++++++++++++++++++++++++++++++++\n",
      "32\n",
      "claudin-low :  (214, 20605)\n",
      "X_train:  (172, 8)  X_test:  (20, 8)\n",
      "X_train:  (192, 8)  X_test:  (22, 8)\n",
      "LumA :  (690, 20605)\n",
      "X_train:  (558, 15)  X_test:  (63, 15)\n",
      "X_train:  (621, 15)  X_test:  (69, 15)\n",
      "LumB :  (474, 20605)\n",
      "X_train:  (383, 16)  X_test:  (43, 16)\n",
      "X_train:  (426, 16)  X_test:  (48, 16)\n",
      "Normal :  (147, 20605)\n",
      "X_train:  (118, 8)  X_test:  (14, 8)\n",
      "X_train:  (132, 9)  X_test:  (15, 9)\n",
      "Her2 :  (223, 20605)\n",
      "X_train:  (180, 10)  X_test:  (20, 10)\n",
      "X_train:  (200, 10)  X_test:  (23, 10)\n",
      "Basal :  (209, 20605)\n",
      "X_train:  (169, 13)  X_test:  (19, 13)\n"
     ]
    },
    {
     "name": "stderr",
     "output_type": "stream",
     "text": [
      " 11%|█████████▌                                                                          | 8/70 [02:39<18:48, 18.21s/it]"
     ]
    },
    {
     "name": "stdout",
     "output_type": "stream",
     "text": [
      "X_train:  (188, 13)  X_test:  (21, 13)\n",
      "NC :  (6, 20605)\n",
      "++++++++++++++++++++++++++++++++++++++++++++++++++++++++++++++++++++++++++++++++++++++++++++++++++++\n",
      "33\n",
      "claudin-low :  (214, 20605)\n",
      "X_train:  (172, 9)  X_test:  (20, 9)\n",
      "X_train:  (192, 9)  X_test:  (22, 9)\n",
      "LumA :  (690, 20605)\n",
      "X_train:  (558, 16)  X_test:  (63, 16)\n",
      "X_train:  (621, 16)  X_test:  (69, 16)\n",
      "LumB :  (474, 20605)\n",
      "X_train:  (383, 17)  X_test:  (43, 17)\n",
      "X_train:  (426, 18)  X_test:  (48, 18)\n",
      "Normal :  (147, 20605)\n",
      "X_train:  (118, 9)  X_test:  (14, 9)\n",
      "X_train:  (132, 9)  X_test:  (15, 9)\n",
      "Her2 :  (223, 20605)\n",
      "X_train:  (180, 11)  X_test:  (20, 11)\n",
      "X_train:  (200, 11)  X_test:  (23, 11)\n",
      "Basal :  (209, 20605)\n",
      "X_train:  (169, 13)  X_test:  (19, 13)\n"
     ]
    },
    {
     "name": "stderr",
     "output_type": "stream",
     "text": [
      " 13%|██████████▊                                                                         | 9/70 [02:56<18:18, 18.01s/it]"
     ]
    },
    {
     "name": "stdout",
     "output_type": "stream",
     "text": [
      "X_train:  (188, 14)  X_test:  (21, 14)\n",
      "NC :  (6, 20605)\n",
      "++++++++++++++++++++++++++++++++++++++++++++++++++++++++++++++++++++++++++++++++++++++++++++++++++++\n",
      "34\n",
      "claudin-low :  (214, 20605)\n",
      "X_train:  (172, 9)  X_test:  (20, 9)\n",
      "X_train:  (192, 9)  X_test:  (22, 9)\n",
      "LumA :  (690, 20605)\n",
      "X_train:  (558, 17)  X_test:  (63, 17)\n",
      "X_train:  (621, 18)  X_test:  (69, 18)\n",
      "LumB :  (474, 20605)\n",
      "X_train:  (383, 19)  X_test:  (43, 19)\n",
      "X_train:  (426, 19)  X_test:  (48, 19)\n",
      "Normal :  (147, 20605)\n",
      "X_train:  (118, 9)  X_test:  (14, 9)\n",
      "X_train:  (132, 10)  X_test:  (15, 10)\n",
      "Her2 :  (223, 20605)\n",
      "X_train:  (180, 12)  X_test:  (20, 12)\n",
      "X_train:  (200, 12)  X_test:  (23, 12)\n",
      "Basal :  (209, 20605)\n",
      "X_train:  (169, 14)  X_test:  (19, 14)\n"
     ]
    },
    {
     "name": "stderr",
     "output_type": "stream",
     "text": [
      " 14%|███████████▊                                                                       | 10/70 [03:13<17:41, 17.69s/it]"
     ]
    },
    {
     "name": "stdout",
     "output_type": "stream",
     "text": [
      "X_train:  (188, 15)  X_test:  (21, 15)\n",
      "NC :  (6, 20605)\n",
      "++++++++++++++++++++++++++++++++++++++++++++++++++++++++++++++++++++++++++++++++++++++++++++++++++++\n",
      "35\n",
      "claudin-low :  (214, 20605)\n",
      "X_train:  (172, 10)  X_test:  (20, 10)\n",
      "X_train:  (192, 10)  X_test:  (22, 10)\n",
      "LumA :  (690, 20605)\n",
      "X_train:  (558, 19)  X_test:  (63, 19)\n",
      "X_train:  (621, 19)  X_test:  (69, 19)\n",
      "LumB :  (474, 20605)\n",
      "X_train:  (383, 20)  X_test:  (43, 20)\n",
      "X_train:  (426, 21)  X_test:  (48, 21)\n",
      "Normal :  (147, 20605)\n",
      "X_train:  (118, 10)  X_test:  (14, 10)\n",
      "X_train:  (132, 11)  X_test:  (15, 11)\n",
      "Her2 :  (223, 20605)\n",
      "X_train:  (180, 13)  X_test:  (20, 13)\n",
      "X_train:  (200, 13)  X_test:  (23, 13)\n",
      "Basal :  (209, 20605)\n",
      "X_train:  (169, 15)  X_test:  (19, 15)\n"
     ]
    },
    {
     "name": "stderr",
     "output_type": "stream",
     "text": [
      " 16%|█████████████                                                                      | 11/70 [03:31<17:22, 17.66s/it]"
     ]
    },
    {
     "name": "stdout",
     "output_type": "stream",
     "text": [
      "X_train:  (188, 16)  X_test:  (21, 16)\n",
      "NC :  (6, 20605)\n",
      "++++++++++++++++++++++++++++++++++++++++++++++++++++++++++++++++++++++++++++++++++++++++++++++++++++\n",
      "36\n",
      "claudin-low :  (214, 20605)\n",
      "X_train:  (172, 10)  X_test:  (20, 10)\n",
      "X_train:  (192, 11)  X_test:  (22, 11)\n",
      "LumA :  (690, 20605)\n",
      "X_train:  (558, 20)  X_test:  (63, 20)\n",
      "X_train:  (621, 21)  X_test:  (69, 21)\n",
      "LumB :  (474, 20605)\n",
      "X_train:  (383, 22)  X_test:  (43, 22)\n",
      "X_train:  (426, 22)  X_test:  (48, 22)\n",
      "Normal :  (147, 20605)\n",
      "X_train:  (118, 11)  X_test:  (14, 11)\n",
      "X_train:  (132, 11)  X_test:  (15, 11)\n",
      "Her2 :  (223, 20605)\n",
      "X_train:  (180, 14)  X_test:  (20, 14)\n",
      "X_train:  (200, 14)  X_test:  (23, 14)\n",
      "Basal :  (209, 20605)\n",
      "X_train:  (169, 16)  X_test:  (19, 16)\n"
     ]
    },
    {
     "name": "stderr",
     "output_type": "stream",
     "text": [
      " 17%|██████████████▏                                                                    | 12/70 [03:47<16:48, 17.38s/it]"
     ]
    },
    {
     "name": "stdout",
     "output_type": "stream",
     "text": [
      "X_train:  (188, 17)  X_test:  (21, 17)\n",
      "NC :  (6, 20605)\n",
      "++++++++++++++++++++++++++++++++++++++++++++++++++++++++++++++++++++++++++++++++++++++++++++++++++++\n",
      "37\n",
      "claudin-low :  (214, 20605)\n",
      "X_train:  (172, 11)  X_test:  (20, 11)\n",
      "X_train:  (192, 12)  X_test:  (22, 12)\n",
      "LumA :  (690, 20605)\n",
      "X_train:  (558, 22)  X_test:  (63, 22)\n",
      "X_train:  (621, 23)  X_test:  (69, 23)\n",
      "LumB :  (474, 20605)\n",
      "X_train:  (383, 23)  X_test:  (43, 23)\n",
      "X_train:  (426, 24)  X_test:  (48, 24)\n",
      "Normal :  (147, 20605)\n",
      "X_train:  (118, 11)  X_test:  (14, 11)\n",
      "X_train:  (132, 12)  X_test:  (15, 12)\n",
      "Her2 :  (223, 20605)\n",
      "X_train:  (180, 15)  X_test:  (20, 15)\n",
      "X_train:  (200, 15)  X_test:  (23, 15)\n",
      "Basal :  (209, 20605)\n",
      "X_train:  (169, 17)  X_test:  (19, 17)\n"
     ]
    },
    {
     "name": "stderr",
     "output_type": "stream",
     "text": [
      " 19%|███████████████▍                                                                   | 13/70 [04:05<16:35, 17.47s/it]"
     ]
    },
    {
     "name": "stdout",
     "output_type": "stream",
     "text": [
      "X_train:  (188, 18)  X_test:  (21, 18)\n",
      "NC :  (6, 20605)\n",
      "++++++++++++++++++++++++++++++++++++++++++++++++++++++++++++++++++++++++++++++++++++++++++++++++++++\n",
      "38\n",
      "claudin-low :  (214, 20605)\n",
      "X_train:  (172, 12)  X_test:  (20, 12)\n",
      "X_train:  (192, 12)  X_test:  (22, 12)\n",
      "LumA :  (690, 20605)\n",
      "X_train:  (558, 24)  X_test:  (63, 24)\n",
      "X_train:  (621, 25)  X_test:  (69, 25)\n",
      "LumB :  (474, 20605)\n",
      "X_train:  (383, 25)  X_test:  (43, 25)\n",
      "X_train:  (426, 26)  X_test:  (48, 26)\n",
      "Normal :  (147, 20605)\n",
      "X_train:  (118, 12)  X_test:  (14, 12)\n",
      "X_train:  (132, 13)  X_test:  (15, 13)\n",
      "Her2 :  (223, 20605)\n",
      "X_train:  (180, 16)  X_test:  (20, 16)\n",
      "X_train:  (200, 16)  X_test:  (23, 16)\n",
      "Basal :  (209, 20605)\n",
      "X_train:  (169, 18)  X_test:  (19, 18)\n"
     ]
    },
    {
     "name": "stderr",
     "output_type": "stream",
     "text": [
      " 20%|████████████████▌                                                                  | 14/70 [04:22<16:16, 17.44s/it]"
     ]
    },
    {
     "name": "stdout",
     "output_type": "stream",
     "text": [
      "X_train:  (188, 19)  X_test:  (21, 19)\n",
      "NC :  (6, 20605)\n",
      "++++++++++++++++++++++++++++++++++++++++++++++++++++++++++++++++++++++++++++++++++++++++++++++++++++\n",
      "39\n",
      "claudin-low :  (214, 20605)\n",
      "X_train:  (172, 13)  X_test:  (20, 13)\n",
      "X_train:  (192, 13)  X_test:  (22, 13)\n",
      "LumA :  (690, 20605)\n",
      "X_train:  (558, 26)  X_test:  (63, 26)\n",
      "X_train:  (621, 27)  X_test:  (69, 27)\n",
      "LumB :  (474, 20605)\n",
      "X_train:  (383, 27)  X_test:  (43, 27)\n",
      "X_train:  (426, 28)  X_test:  (48, 28)\n",
      "Normal :  (147, 20605)\n",
      "X_train:  (118, 13)  X_test:  (14, 13)\n",
      "X_train:  (132, 13)  X_test:  (15, 13)\n",
      "Her2 :  (223, 20605)\n",
      "X_train:  (180, 17)  X_test:  (20, 17)\n",
      "X_train:  (200, 18)  X_test:  (23, 18)\n",
      "Basal :  (209, 20605)\n",
      "X_train:  (169, 19)  X_test:  (19, 19)\n"
     ]
    },
    {
     "name": "stderr",
     "output_type": "stream",
     "text": [
      " 21%|█████████████████▊                                                                 | 15/70 [04:40<15:52, 17.32s/it]"
     ]
    },
    {
     "name": "stdout",
     "output_type": "stream",
     "text": [
      "X_train:  (188, 20)  X_test:  (21, 20)\n",
      "NC :  (6, 20605)\n",
      "++++++++++++++++++++++++++++++++++++++++++++++++++++++++++++++++++++++++++++++++++++++++++++++++++++\n",
      "40\n",
      "claudin-low :  (214, 20605)\n",
      "X_train:  (172, 13)  X_test:  (20, 13)\n",
      "X_train:  (192, 14)  X_test:  (22, 14)\n",
      "LumA :  (690, 20605)\n",
      "X_train:  (558, 28)  X_test:  (63, 28)\n",
      "X_train:  (621, 29)  X_test:  (69, 29)\n",
      "LumB :  (474, 20605)\n",
      "X_train:  (383, 29)  X_test:  (43, 29)\n",
      "X_train:  (426, 30)  X_test:  (48, 30)\n",
      "Normal :  (147, 20605)\n",
      "X_train:  (118, 13)  X_test:  (14, 13)\n",
      "X_train:  (132, 14)  X_test:  (15, 14)\n",
      "Her2 :  (223, 20605)\n",
      "X_train:  (180, 18)  X_test:  (20, 18)\n",
      "X_train:  (200, 19)  X_test:  (23, 19)\n",
      "Basal :  (209, 20605)\n",
      "X_train:  (169, 20)  X_test:  (19, 20)\n"
     ]
    },
    {
     "name": "stderr",
     "output_type": "stream",
     "text": [
      " 23%|██████████████████▉                                                                | 16/70 [04:57<15:45, 17.51s/it]"
     ]
    },
    {
     "name": "stdout",
     "output_type": "stream",
     "text": [
      "X_train:  (188, 21)  X_test:  (21, 21)\n",
      "NC :  (6, 20605)\n",
      "++++++++++++++++++++++++++++++++++++++++++++++++++++++++++++++++++++++++++++++++++++++++++++++++++++\n",
      "41\n",
      "claudin-low :  (214, 20605)\n",
      "X_train:  (172, 14)  X_test:  (20, 14)\n",
      "X_train:  (192, 15)  X_test:  (22, 15)\n",
      "LumA :  (690, 20605)\n",
      "X_train:  (558, 30)  X_test:  (63, 30)\n",
      "X_train:  (621, 31)  X_test:  (69, 31)\n",
      "LumB :  (474, 20605)\n",
      "X_train:  (383, 31)  X_test:  (43, 31)\n",
      "X_train:  (426, 32)  X_test:  (48, 32)\n",
      "Normal :  (147, 20605)\n",
      "X_train:  (118, 14)  X_test:  (14, 14)\n",
      "X_train:  (132, 15)  X_test:  (15, 15)\n",
      "Her2 :  (223, 20605)\n",
      "X_train:  (180, 19)  X_test:  (20, 19)\n",
      "X_train:  (200, 20)  X_test:  (23, 20)\n",
      "Basal :  (209, 20605)\n",
      "X_train:  (169, 21)  X_test:  (19, 21)\n"
     ]
    },
    {
     "name": "stderr",
     "output_type": "stream",
     "text": [
      " 24%|████████████████████▏                                                              | 17/70 [05:15<15:22, 17.41s/it]"
     ]
    },
    {
     "name": "stdout",
     "output_type": "stream",
     "text": [
      "X_train:  (188, 23)  X_test:  (21, 23)\n",
      "NC :  (6, 20605)\n",
      "++++++++++++++++++++++++++++++++++++++++++++++++++++++++++++++++++++++++++++++++++++++++++++++++++++\n",
      "42\n",
      "claudin-low :  (214, 20605)\n",
      "X_train:  (172, 15)  X_test:  (20, 15)\n",
      "X_train:  (192, 16)  X_test:  (22, 16)\n",
      "LumA :  (690, 20605)\n",
      "X_train:  (558, 32)  X_test:  (63, 32)\n",
      "X_train:  (621, 34)  X_test:  (69, 34)\n",
      "LumB :  (474, 20605)\n",
      "X_train:  (383, 33)  X_test:  (43, 33)\n",
      "X_train:  (426, 34)  X_test:  (48, 34)\n",
      "Normal :  (147, 20605)\n",
      "X_train:  (118, 15)  X_test:  (14, 15)\n",
      "X_train:  (132, 16)  X_test:  (15, 16)\n",
      "Her2 :  (223, 20605)\n",
      "X_train:  (180, 21)  X_test:  (20, 21)\n",
      "X_train:  (200, 21)  X_test:  (23, 21)\n",
      "Basal :  (209, 20605)\n",
      "X_train:  (169, 23)  X_test:  (19, 23)\n"
     ]
    },
    {
     "name": "stderr",
     "output_type": "stream",
     "text": [
      " 26%|█████████████████████▎                                                             | 18/70 [05:33<15:25, 17.79s/it]"
     ]
    },
    {
     "name": "stdout",
     "output_type": "stream",
     "text": [
      "X_train:  (188, 24)  X_test:  (21, 24)\n",
      "NC :  (6, 20605)\n",
      "++++++++++++++++++++++++++++++++++++++++++++++++++++++++++++++++++++++++++++++++++++++++++++++++++++\n",
      "43\n",
      "claudin-low :  (214, 20605)\n",
      "X_train:  (172, 16)  X_test:  (20, 16)\n",
      "X_train:  (192, 17)  X_test:  (22, 17)\n",
      "LumA :  (690, 20605)\n",
      "X_train:  (558, 35)  X_test:  (63, 35)\n",
      "X_train:  (621, 36)  X_test:  (69, 36)\n",
      "LumB :  (474, 20605)\n",
      "X_train:  (383, 35)  X_test:  (43, 35)\n",
      "X_train:  (426, 36)  X_test:  (48, 36)\n",
      "Normal :  (147, 20605)\n",
      "X_train:  (118, 16)  X_test:  (14, 16)\n",
      "X_train:  (132, 17)  X_test:  (15, 17)\n",
      "Her2 :  (223, 20605)\n",
      "X_train:  (180, 22)  X_test:  (20, 22)\n",
      "X_train:  (200, 23)  X_test:  (23, 23)\n",
      "Basal :  (209, 20605)\n",
      "X_train:  (169, 24)  X_test:  (19, 24)\n"
     ]
    },
    {
     "name": "stderr",
     "output_type": "stream",
     "text": [
      " 27%|██████████████████████▌                                                            | 19/70 [05:52<15:14, 17.94s/it]"
     ]
    },
    {
     "name": "stdout",
     "output_type": "stream",
     "text": [
      "X_train:  (188, 25)  X_test:  (21, 25)\n",
      "NC :  (6, 20605)\n",
      "++++++++++++++++++++++++++++++++++++++++++++++++++++++++++++++++++++++++++++++++++++++++++++++++++++\n",
      "44\n",
      "claudin-low :  (214, 20605)\n",
      "X_train:  (172, 17)  X_test:  (20, 17)\n",
      "X_train:  (192, 18)  X_test:  (22, 18)\n",
      "LumA :  (690, 20605)\n",
      "X_train:  (558, 37)  X_test:  (63, 37)\n",
      "X_train:  (621, 39)  X_test:  (69, 39)\n",
      "LumB :  (474, 20605)\n",
      "X_train:  (383, 37)  X_test:  (43, 37)\n",
      "X_train:  (426, 39)  X_test:  (48, 39)\n",
      "Normal :  (147, 20605)\n",
      "X_train:  (118, 16)  X_test:  (14, 16)\n",
      "X_train:  (132, 18)  X_test:  (15, 18)\n",
      "Her2 :  (223, 20605)\n",
      "X_train:  (180, 23)  X_test:  (20, 23)\n",
      "X_train:  (200, 24)  X_test:  (23, 24)\n",
      "Basal :  (209, 20605)\n",
      "X_train:  (169, 25)  X_test:  (19, 25)\n"
     ]
    },
    {
     "name": "stderr",
     "output_type": "stream",
     "text": [
      " 29%|███████████████████████▋                                                           | 20/70 [06:10<14:57, 17.94s/it]"
     ]
    },
    {
     "name": "stdout",
     "output_type": "stream",
     "text": [
      "X_train:  (188, 27)  X_test:  (21, 27)\n",
      "NC :  (6, 20605)\n",
      "++++++++++++++++++++++++++++++++++++++++++++++++++++++++++++++++++++++++++++++++++++++++++++++++++++\n",
      "45\n",
      "claudin-low :  (214, 20605)\n",
      "X_train:  (172, 18)  X_test:  (20, 18)\n",
      "X_train:  (192, 19)  X_test:  (22, 19)\n",
      "LumA :  (690, 20605)\n",
      "X_train:  (558, 40)  X_test:  (63, 40)\n",
      "X_train:  (621, 42)  X_test:  (69, 42)\n",
      "LumB :  (474, 20605)\n",
      "X_train:  (383, 40)  X_test:  (43, 40)\n",
      "X_train:  (426, 41)  X_test:  (48, 41)\n",
      "Normal :  (147, 20605)\n",
      "X_train:  (118, 17)  X_test:  (14, 17)\n",
      "X_train:  (132, 19)  X_test:  (15, 19)\n",
      "Her2 :  (223, 20605)\n",
      "X_train:  (180, 24)  X_test:  (20, 24)\n",
      "X_train:  (200, 26)  X_test:  (23, 26)\n",
      "Basal :  (209, 20605)\n",
      "X_train:  (169, 26)  X_test:  (19, 26)\n"
     ]
    },
    {
     "name": "stderr",
     "output_type": "stream",
     "text": [
      " 30%|████████████████████████▉                                                          | 21/70 [06:28<14:46, 18.08s/it]"
     ]
    },
    {
     "name": "stdout",
     "output_type": "stream",
     "text": [
      "X_train:  (188, 28)  X_test:  (21, 28)\n",
      "NC :  (6, 20605)\n",
      "++++++++++++++++++++++++++++++++++++++++++++++++++++++++++++++++++++++++++++++++++++++++++++++++++++\n",
      "46\n",
      "claudin-low :  (214, 20605)\n",
      "X_train:  (172, 19)  X_test:  (20, 19)\n",
      "X_train:  (192, 20)  X_test:  (22, 20)\n",
      "LumA :  (690, 20605)\n",
      "X_train:  (558, 43)  X_test:  (63, 43)\n",
      "X_train:  (621, 45)  X_test:  (69, 45)\n",
      "LumB :  (474, 20605)\n",
      "X_train:  (383, 42)  X_test:  (43, 42)\n",
      "X_train:  (426, 44)  X_test:  (48, 44)\n",
      "Normal :  (147, 20605)\n",
      "X_train:  (118, 18)  X_test:  (14, 18)\n",
      "X_train:  (132, 20)  X_test:  (15, 20)\n",
      "Her2 :  (223, 20605)\n",
      "X_train:  (180, 26)  X_test:  (20, 26)\n",
      "X_train:  (200, 27)  X_test:  (23, 27)\n",
      "Basal :  (209, 20605)\n",
      "X_train:  (169, 28)  X_test:  (19, 28)\n"
     ]
    },
    {
     "name": "stderr",
     "output_type": "stream",
     "text": [
      " 31%|██████████████████████████                                                         | 22/70 [06:45<14:12, 17.77s/it]"
     ]
    },
    {
     "name": "stdout",
     "output_type": "stream",
     "text": [
      "X_train:  (188, 30)  X_test:  (21, 30)\n",
      "NC :  (6, 20605)\n",
      "++++++++++++++++++++++++++++++++++++++++++++++++++++++++++++++++++++++++++++++++++++++++++++++++++++\n",
      "47\n",
      "claudin-low :  (214, 20605)\n",
      "X_train:  (172, 20)  X_test:  (20, 20)\n",
      "X_train:  (192, 22)  X_test:  (22, 22)\n",
      "LumA :  (690, 20605)\n",
      "X_train:  (558, 46)  X_test:  (63, 46)\n",
      "X_train:  (621, 49)  X_test:  (69, 49)\n",
      "LumB :  (474, 20605)\n",
      "X_train:  (383, 45)  X_test:  (43, 45)\n",
      "X_train:  (426, 47)  X_test:  (48, 47)\n",
      "Normal :  (147, 20605)\n",
      "X_train:  (118, 19)  X_test:  (14, 19)\n",
      "X_train:  (132, 21)  X_test:  (15, 21)\n",
      "Her2 :  (223, 20605)\n",
      "X_train:  (180, 27)  X_test:  (20, 27)\n",
      "X_train:  (200, 29)  X_test:  (23, 29)\n",
      "Basal :  (209, 20605)\n",
      "X_train:  (169, 29)  X_test:  (19, 29)\n"
     ]
    },
    {
     "name": "stderr",
     "output_type": "stream",
     "text": [
      " 33%|███████████████████████████▎                                                       | 23/70 [07:03<13:59, 17.87s/it]"
     ]
    },
    {
     "name": "stdout",
     "output_type": "stream",
     "text": [
      "X_train:  (188, 31)  X_test:  (21, 31)\n",
      "NC :  (6, 20605)\n",
      "++++++++++++++++++++++++++++++++++++++++++++++++++++++++++++++++++++++++++++++++++++++++++++++++++++\n",
      "48\n",
      "claudin-low :  (214, 20605)\n",
      "X_train:  (172, 22)  X_test:  (20, 22)\n",
      "X_train:  (192, 23)  X_test:  (22, 23)\n",
      "LumA :  (690, 20605)\n",
      "X_train:  (558, 50)  X_test:  (63, 50)\n",
      "X_train:  (621, 52)  X_test:  (69, 52)\n",
      "LumB :  (474, 20605)\n",
      "X_train:  (383, 48)  X_test:  (43, 48)\n",
      "X_train:  (426, 50)  X_test:  (48, 50)\n",
      "Normal :  (147, 20605)\n",
      "X_train:  (118, 20)  X_test:  (14, 20)\n",
      "X_train:  (132, 22)  X_test:  (15, 22)\n",
      "Her2 :  (223, 20605)\n",
      "X_train:  (180, 29)  X_test:  (20, 29)\n",
      "X_train:  (200, 31)  X_test:  (23, 31)\n",
      "Basal :  (209, 20605)\n",
      "X_train:  (169, 31)  X_test:  (19, 31)\n"
     ]
    },
    {
     "name": "stderr",
     "output_type": "stream",
     "text": [
      " 34%|████████████████████████████▍                                                      | 24/70 [07:21<13:41, 17.86s/it]"
     ]
    },
    {
     "name": "stdout",
     "output_type": "stream",
     "text": [
      "X_train:  (188, 33)  X_test:  (21, 33)\n",
      "NC :  (6, 20605)\n",
      "++++++++++++++++++++++++++++++++++++++++++++++++++++++++++++++++++++++++++++++++++++++++++++++++++++\n",
      "49\n",
      "claudin-low :  (214, 20605)\n",
      "X_train:  (172, 23)  X_test:  (20, 23)\n",
      "X_train:  (192, 24)  X_test:  (22, 24)\n",
      "LumA :  (690, 20605)\n",
      "X_train:  (558, 53)  X_test:  (63, 53)\n",
      "X_train:  (621, 56)  X_test:  (69, 56)\n",
      "LumB :  (474, 20605)\n",
      "X_train:  (383, 50)  X_test:  (43, 50)\n",
      "X_train:  (426, 53)  X_test:  (48, 53)\n",
      "Normal :  (147, 20605)\n",
      "X_train:  (118, 21)  X_test:  (14, 21)\n",
      "X_train:  (132, 23)  X_test:  (15, 23)\n",
      "Her2 :  (223, 20605)\n",
      "X_train:  (180, 31)  X_test:  (20, 31)\n",
      "X_train:  (200, 32)  X_test:  (23, 32)\n",
      "Basal :  (209, 20605)\n",
      "X_train:  (169, 32)  X_test:  (19, 32)\n"
     ]
    },
    {
     "name": "stderr",
     "output_type": "stream",
     "text": [
      " 36%|█████████████████████████████▋                                                     | 25/70 [07:39<13:32, 18.05s/it]"
     ]
    },
    {
     "name": "stdout",
     "output_type": "stream",
     "text": [
      "X_train:  (188, 34)  X_test:  (21, 34)\n",
      "NC :  (6, 20605)\n",
      "++++++++++++++++++++++++++++++++++++++++++++++++++++++++++++++++++++++++++++++++++++++++++++++++++++\n",
      "50\n",
      "claudin-low :  (214, 20605)\n",
      "X_train:  (172, 24)  X_test:  (20, 24)\n",
      "X_train:  (192, 26)  X_test:  (22, 26)\n",
      "LumA :  (690, 20605)\n",
      "X_train:  (558, 57)  X_test:  (63, 57)\n",
      "X_train:  (621, 60)  X_test:  (69, 60)\n",
      "LumB :  (474, 20605)\n",
      "X_train:  (383, 53)  X_test:  (43, 53)\n",
      "X_train:  (426, 56)  X_test:  (48, 56)\n",
      "Normal :  (147, 20605)\n",
      "X_train:  (118, 22)  X_test:  (14, 22)\n",
      "X_train:  (132, 24)  X_test:  (15, 24)\n",
      "Her2 :  (223, 20605)\n",
      "X_train:  (180, 32)  X_test:  (20, 32)\n",
      "X_train:  (200, 34)  X_test:  (23, 34)\n",
      "Basal :  (209, 20605)\n",
      "X_train:  (169, 34)  X_test:  (19, 34)\n"
     ]
    },
    {
     "name": "stderr",
     "output_type": "stream",
     "text": [
      " 37%|██████████████████████████████▊                                                    | 26/70 [07:58<13:21, 18.21s/it]"
     ]
    },
    {
     "name": "stdout",
     "output_type": "stream",
     "text": [
      "X_train:  (188, 36)  X_test:  (21, 36)\n",
      "NC :  (6, 20605)\n",
      "++++++++++++++++++++++++++++++++++++++++++++++++++++++++++++++++++++++++++++++++++++++++++++++++++++\n",
      "51\n",
      "claudin-low :  (214, 20605)\n",
      "X_train:  (172, 26)  X_test:  (20, 26)\n",
      "X_train:  (192, 27)  X_test:  (22, 27)\n",
      "LumA :  (690, 20605)\n",
      "X_train:  (558, 61)  X_test:  (63, 61)\n",
      "X_train:  (621, 65)  X_test:  (69, 65)\n",
      "LumB :  (474, 20605)\n",
      "X_train:  (383, 57)  X_test:  (43, 57)\n",
      "X_train:  (426, 60)  X_test:  (48, 60)\n",
      "Normal :  (147, 20605)\n",
      "X_train:  (118, 23)  X_test:  (14, 23)\n",
      "X_train:  (132, 25)  X_test:  (15, 25)\n",
      "Her2 :  (223, 20605)\n",
      "X_train:  (180, 34)  X_test:  (20, 34)\n",
      "X_train:  (200, 36)  X_test:  (23, 36)\n",
      "Basal :  (209, 20605)\n",
      "X_train:  (169, 35)  X_test:  (19, 35)\n"
     ]
    },
    {
     "name": "stderr",
     "output_type": "stream",
     "text": [
      " 39%|████████████████████████████████                                                   | 27/70 [08:15<12:50, 17.92s/it]"
     ]
    },
    {
     "name": "stdout",
     "output_type": "stream",
     "text": [
      "X_train:  (188, 38)  X_test:  (21, 38)\n",
      "NC :  (6, 20605)\n",
      "++++++++++++++++++++++++++++++++++++++++++++++++++++++++++++++++++++++++++++++++++++++++++++++++++++\n",
      "52\n",
      "claudin-low :  (214, 20605)\n",
      "X_train:  (172, 27)  X_test:  (20, 27)\n",
      "X_train:  (192, 29)  X_test:  (22, 29)\n",
      "LumA :  (690, 20605)\n",
      "X_train:  (558, 65)  X_test:  (63, 65)\n",
      "X_train:  (621, 69)  X_test:  (69, 69)\n",
      "LumB :  (474, 20605)\n",
      "X_train:  (383, 60)  X_test:  (43, 60)\n",
      "X_train:  (426, 63)  X_test:  (48, 63)\n",
      "Normal :  (147, 20605)\n",
      "X_train:  (118, 24)  X_test:  (14, 24)\n",
      "X_train:  (132, 26)  X_test:  (15, 26)\n",
      "Her2 :  (223, 20605)\n",
      "X_train:  (180, 36)  X_test:  (20, 36)\n",
      "X_train:  (200, 38)  X_test:  (23, 38)\n",
      "Basal :  (209, 20605)\n",
      "X_train:  (169, 37)  X_test:  (19, 37)\n"
     ]
    },
    {
     "name": "stderr",
     "output_type": "stream",
     "text": [
      " 40%|█████████████████████████████████▏                                                 | 28/70 [08:34<12:39, 18.07s/it]"
     ]
    },
    {
     "name": "stdout",
     "output_type": "stream",
     "text": [
      "X_train:  (188, 39)  X_test:  (21, 39)\n",
      "NC :  (6, 20605)\n",
      "++++++++++++++++++++++++++++++++++++++++++++++++++++++++++++++++++++++++++++++++++++++++++++++++++++\n",
      "53\n",
      "claudin-low :  (214, 20605)\n",
      "X_train:  (172, 29)  X_test:  (20, 29)\n",
      "X_train:  (192, 31)  X_test:  (22, 31)\n",
      "LumA :  (690, 20605)\n",
      "X_train:  (558, 70)  X_test:  (63, 70)\n",
      "X_train:  (621, 74)  X_test:  (69, 74)\n",
      "LumB :  (474, 20605)\n",
      "X_train:  (383, 63)  X_test:  (43, 63)\n",
      "X_train:  (426, 67)  X_test:  (48, 67)\n",
      "Normal :  (147, 20605)\n",
      "X_train:  (118, 25)  X_test:  (14, 25)\n",
      "X_train:  (132, 28)  X_test:  (15, 28)\n",
      "Her2 :  (223, 20605)\n",
      "X_train:  (180, 37)  X_test:  (20, 37)\n",
      "X_train:  (200, 40)  X_test:  (23, 40)\n",
      "Basal :  (209, 20605)\n",
      "X_train:  (169, 38)  X_test:  (19, 38)\n"
     ]
    },
    {
     "name": "stderr",
     "output_type": "stream",
     "text": [
      " 41%|██████████████████████████████████▍                                                | 29/70 [08:51<12:10, 17.83s/it]"
     ]
    },
    {
     "name": "stdout",
     "output_type": "stream",
     "text": [
      "X_train:  (188, 41)  X_test:  (21, 41)\n",
      "NC :  (6, 20605)\n",
      "++++++++++++++++++++++++++++++++++++++++++++++++++++++++++++++++++++++++++++++++++++++++++++++++++++\n",
      "54\n",
      "claudin-low :  (214, 20605)\n",
      "X_train:  (172, 30)  X_test:  (20, 30)\n",
      "X_train:  (192, 33)  X_test:  (22, 33)\n",
      "LumA :  (690, 20605)\n",
      "X_train:  (558, 75)  X_test:  (63, 75)\n",
      "X_train:  (621, 80)  X_test:  (69, 80)\n",
      "LumB :  (474, 20605)\n",
      "X_train:  (383, 67)  X_test:  (43, 67)\n",
      "X_train:  (426, 71)  X_test:  (48, 71)\n",
      "Normal :  (147, 20605)\n",
      "X_train:  (118, 26)  X_test:  (14, 26)\n",
      "X_train:  (132, 29)  X_test:  (15, 29)\n",
      "Her2 :  (223, 20605)\n",
      "X_train:  (180, 39)  X_test:  (20, 39)\n",
      "X_train:  (200, 42)  X_test:  (23, 42)\n",
      "Basal :  (209, 20605)\n",
      "X_train:  (169, 40)  X_test:  (19, 40)\n"
     ]
    },
    {
     "name": "stderr",
     "output_type": "stream",
     "text": [
      " 43%|███████████████████████████████████▌                                               | 30/70 [09:09<11:52, 17.81s/it]"
     ]
    },
    {
     "name": "stdout",
     "output_type": "stream",
     "text": [
      "X_train:  (188, 43)  X_test:  (21, 43)\n",
      "NC :  (6, 20605)\n",
      "++++++++++++++++++++++++++++++++++++++++++++++++++++++++++++++++++++++++++++++++++++++++++++++++++++\n",
      "55\n",
      "claudin-low :  (214, 20605)\n",
      "X_train:  (172, 32)  X_test:  (20, 32)\n",
      "X_train:  (192, 34)  X_test:  (22, 34)\n",
      "LumA :  (690, 20605)\n",
      "X_train:  (558, 80)  X_test:  (63, 80)\n",
      "X_train:  (621, 85)  X_test:  (69, 85)\n",
      "LumB :  (474, 20605)\n",
      "X_train:  (383, 70)  X_test:  (43, 70)\n",
      "X_train:  (426, 75)  X_test:  (48, 75)\n",
      "Normal :  (147, 20605)\n",
      "X_train:  (118, 28)  X_test:  (14, 28)\n",
      "X_train:  (132, 30)  X_test:  (15, 30)\n",
      "Her2 :  (223, 20605)\n",
      "X_train:  (180, 41)  X_test:  (20, 41)\n",
      "X_train:  (200, 44)  X_test:  (23, 44)\n",
      "Basal :  (209, 20605)\n",
      "X_train:  (169, 42)  X_test:  (19, 42)\n"
     ]
    },
    {
     "name": "stderr",
     "output_type": "stream",
     "text": [
      " 44%|████████████████████████████████████▊                                              | 31/70 [09:27<11:42, 18.03s/it]"
     ]
    },
    {
     "name": "stdout",
     "output_type": "stream",
     "text": [
      "X_train:  (188, 45)  X_test:  (21, 45)\n",
      "NC :  (6, 20605)\n",
      "++++++++++++++++++++++++++++++++++++++++++++++++++++++++++++++++++++++++++++++++++++++++++++++++++++\n",
      "56\n",
      "claudin-low :  (214, 20605)\n",
      "X_train:  (172, 33)  X_test:  (20, 33)\n",
      "X_train:  (192, 36)  X_test:  (22, 36)\n",
      "LumA :  (690, 20605)\n",
      "X_train:  (558, 85)  X_test:  (63, 85)\n",
      "X_train:  (621, 91)  X_test:  (69, 91)\n",
      "LumB :  (474, 20605)\n",
      "X_train:  (383, 74)  X_test:  (43, 74)\n",
      "X_train:  (426, 79)  X_test:  (48, 79)\n",
      "Normal :  (147, 20605)\n",
      "X_train:  (118, 29)  X_test:  (14, 29)\n",
      "X_train:  (132, 31)  X_test:  (15, 31)\n",
      "Her2 :  (223, 20605)\n",
      "X_train:  (180, 43)  X_test:  (20, 43)\n",
      "X_train:  (200, 46)  X_test:  (23, 46)\n",
      "Basal :  (209, 20605)\n",
      "X_train:  (169, 44)  X_test:  (19, 44)\n"
     ]
    },
    {
     "name": "stderr",
     "output_type": "stream",
     "text": [
      " 46%|█████████████████████████████████████▉                                             | 32/70 [09:45<11:19, 17.89s/it]"
     ]
    },
    {
     "name": "stdout",
     "output_type": "stream",
     "text": [
      "X_train:  (188, 47)  X_test:  (21, 47)\n",
      "NC :  (6, 20605)\n",
      "++++++++++++++++++++++++++++++++++++++++++++++++++++++++++++++++++++++++++++++++++++++++++++++++++++\n",
      "57\n",
      "claudin-low :  (214, 20605)\n",
      "X_train:  (172, 35)  X_test:  (20, 35)\n",
      "X_train:  (192, 38)  X_test:  (22, 38)\n",
      "LumA :  (690, 20605)\n",
      "X_train:  (558, 90)  X_test:  (63, 90)\n",
      "X_train:  (621, 97)  X_test:  (69, 97)\n",
      "LumB :  (474, 20605)\n",
      "X_train:  (383, 78)  X_test:  (43, 78)\n",
      "X_train:  (426, 84)  X_test:  (48, 84)\n",
      "Normal :  (147, 20605)\n",
      "X_train:  (118, 30)  X_test:  (14, 30)\n",
      "X_train:  (132, 33)  X_test:  (15, 33)\n",
      "Her2 :  (223, 20605)\n",
      "X_train:  (180, 45)  X_test:  (20, 45)\n",
      "X_train:  (200, 48)  X_test:  (23, 48)\n",
      "Basal :  (209, 20605)\n",
      "X_train:  (169, 45)  X_test:  (19, 45)\n"
     ]
    },
    {
     "name": "stderr",
     "output_type": "stream",
     "text": [
      " 47%|███████████████████████████████████████▏                                           | 33/70 [10:03<11:09, 18.10s/it]"
     ]
    },
    {
     "name": "stdout",
     "output_type": "stream",
     "text": [
      "X_train:  (188, 49)  X_test:  (21, 49)\n",
      "NC :  (6, 20605)\n",
      "++++++++++++++++++++++++++++++++++++++++++++++++++++++++++++++++++++++++++++++++++++++++++++++++++++\n",
      "58\n",
      "claudin-low :  (214, 20605)\n",
      "X_train:  (172, 37)  X_test:  (20, 37)\n",
      "X_train:  (192, 40)  X_test:  (22, 40)\n",
      "LumA :  (690, 20605)\n",
      "X_train:  (558, 96)  X_test:  (63, 96)\n",
      "X_train:  (621, 103)  X_test:  (69, 103)\n",
      "LumB :  (474, 20605)\n",
      "X_train:  (383, 82)  X_test:  (43, 82)\n",
      "X_train:  (426, 88)  X_test:  (48, 88)\n",
      "Normal :  (147, 20605)\n",
      "X_train:  (118, 31)  X_test:  (14, 31)\n",
      "X_train:  (132, 34)  X_test:  (15, 34)\n",
      "Her2 :  (223, 20605)\n",
      "X_train:  (180, 47)  X_test:  (20, 47)\n",
      "X_train:  (200, 50)  X_test:  (23, 50)\n",
      "Basal :  (209, 20605)\n",
      "X_train:  (169, 47)  X_test:  (19, 47)\n"
     ]
    },
    {
     "name": "stderr",
     "output_type": "stream",
     "text": [
      " 49%|████████████████████████████████████████▎                                          | 34/70 [10:22<10:54, 18.18s/it]"
     ]
    },
    {
     "name": "stdout",
     "output_type": "stream",
     "text": [
      "X_train:  (188, 51)  X_test:  (21, 51)\n",
      "NC :  (6, 20605)\n",
      "++++++++++++++++++++++++++++++++++++++++++++++++++++++++++++++++++++++++++++++++++++++++++++++++++++\n",
      "59\n",
      "claudin-low :  (214, 20605)\n",
      "X_train:  (172, 39)  X_test:  (20, 39)\n",
      "X_train:  (192, 42)  X_test:  (22, 42)\n",
      "LumA :  (690, 20605)\n",
      "X_train:  (558, 102)  X_test:  (63, 102)\n",
      "X_train:  (621, 110)  X_test:  (69, 110)\n",
      "LumB :  (474, 20605)\n",
      "X_train:  (383, 86)  X_test:  (43, 86)\n",
      "X_train:  (426, 93)  X_test:  (48, 93)\n",
      "Normal :  (147, 20605)\n",
      "X_train:  (118, 33)  X_test:  (14, 33)\n",
      "X_train:  (132, 36)  X_test:  (15, 36)\n",
      "Her2 :  (223, 20605)\n",
      "X_train:  (180, 49)  X_test:  (20, 49)\n",
      "X_train:  (200, 52)  X_test:  (23, 52)\n",
      "Basal :  (209, 20605)\n",
      "X_train:  (169, 49)  X_test:  (19, 49)\n"
     ]
    },
    {
     "name": "stderr",
     "output_type": "stream",
     "text": [
      " 50%|█████████████████████████████████████████▌                                         | 35/70 [10:40<10:37, 18.20s/it]"
     ]
    },
    {
     "name": "stdout",
     "output_type": "stream",
     "text": [
      "X_train:  (188, 53)  X_test:  (21, 53)\n",
      "NC :  (6, 20605)\n",
      "++++++++++++++++++++++++++++++++++++++++++++++++++++++++++++++++++++++++++++++++++++++++++++++++++++\n",
      "60\n",
      "claudin-low :  (214, 20605)\n",
      "X_train:  (172, 41)  X_test:  (20, 41)\n",
      "X_train:  (192, 44)  X_test:  (22, 44)\n",
      "LumA :  (690, 20605)\n",
      "X_train:  (558, 108)  X_test:  (63, 108)\n",
      "X_train:  (621, 117)  X_test:  (69, 117)\n",
      "LumB :  (474, 20605)\n",
      "X_train:  (383, 91)  X_test:  (43, 91)\n",
      "X_train:  (426, 97)  X_test:  (48, 97)\n",
      "Normal :  (147, 20605)\n",
      "X_train:  (118, 34)  X_test:  (14, 34)\n",
      "X_train:  (132, 37)  X_test:  (15, 37)\n",
      "Her2 :  (223, 20605)\n",
      "X_train:  (180, 51)  X_test:  (20, 51)\n",
      "X_train:  (200, 55)  X_test:  (23, 55)\n",
      "Basal :  (209, 20605)\n",
      "X_train:  (169, 51)  X_test:  (19, 51)\n"
     ]
    },
    {
     "name": "stderr",
     "output_type": "stream",
     "text": [
      " 51%|██████████████████████████████████████████▋                                        | 36/70 [10:59<10:21, 18.29s/it]"
     ]
    },
    {
     "name": "stdout",
     "output_type": "stream",
     "text": [
      "X_train:  (188, 55)  X_test:  (21, 55)\n",
      "NC :  (6, 20605)\n",
      "++++++++++++++++++++++++++++++++++++++++++++++++++++++++++++++++++++++++++++++++++++++++++++++++++++\n",
      "61\n",
      "claudin-low :  (214, 20605)\n",
      "X_train:  (172, 43)  X_test:  (20, 43)\n",
      "X_train:  (192, 47)  X_test:  (22, 47)\n",
      "LumA :  (690, 20605)\n",
      "X_train:  (558, 114)  X_test:  (63, 114)\n",
      "X_train:  (621, 124)  X_test:  (69, 124)\n",
      "LumB :  (474, 20605)\n",
      "X_train:  (383, 95)  X_test:  (43, 95)\n",
      "X_train:  (426, 102)  X_test:  (48, 102)\n",
      "Normal :  (147, 20605)\n",
      "X_train:  (118, 35)  X_test:  (14, 35)\n",
      "X_train:  (132, 39)  X_test:  (15, 39)\n",
      "Her2 :  (223, 20605)\n",
      "X_train:  (180, 53)  X_test:  (20, 53)\n",
      "X_train:  (200, 57)  X_test:  (23, 57)\n",
      "Basal :  (209, 20605)\n",
      "X_train:  (169, 53)  X_test:  (19, 53)\n"
     ]
    },
    {
     "name": "stderr",
     "output_type": "stream",
     "text": [
      " 53%|███████████████████████████████████████████▊                                       | 37/70 [11:17<10:06, 18.36s/it]"
     ]
    },
    {
     "name": "stdout",
     "output_type": "stream",
     "text": [
      "X_train:  (188, 57)  X_test:  (21, 57)\n",
      "NC :  (6, 20605)\n",
      "++++++++++++++++++++++++++++++++++++++++++++++++++++++++++++++++++++++++++++++++++++++++++++++++++++\n",
      "62\n",
      "claudin-low :  (214, 20605)\n",
      "X_train:  (172, 45)  X_test:  (20, 45)\n",
      "X_train:  (192, 49)  X_test:  (22, 49)\n",
      "LumA :  (690, 20605)\n",
      "X_train:  (558, 121)  X_test:  (63, 121)\n",
      "X_train:  (621, 131)  X_test:  (69, 131)\n",
      "LumB :  (474, 20605)\n",
      "X_train:  (383, 100)  X_test:  (43, 100)\n",
      "X_train:  (426, 108)  X_test:  (48, 108)\n",
      "Normal :  (147, 20605)\n",
      "X_train:  (118, 37)  X_test:  (14, 37)\n",
      "X_train:  (132, 40)  X_test:  (15, 40)\n",
      "Her2 :  (223, 20605)\n",
      "X_train:  (180, 55)  X_test:  (20, 55)\n",
      "X_train:  (200, 60)  X_test:  (23, 60)\n",
      "Basal :  (209, 20605)\n",
      "X_train:  (169, 55)  X_test:  (19, 55)\n"
     ]
    },
    {
     "name": "stderr",
     "output_type": "stream",
     "text": [
      " 54%|█████████████████████████████████████████████                                      | 38/70 [11:36<09:55, 18.61s/it]"
     ]
    },
    {
     "name": "stdout",
     "output_type": "stream",
     "text": [
      "X_train:  (188, 59)  X_test:  (21, 59)\n",
      "NC :  (6, 20605)\n",
      "++++++++++++++++++++++++++++++++++++++++++++++++++++++++++++++++++++++++++++++++++++++++++++++++++++\n",
      "63\n",
      "claudin-low :  (214, 20605)\n",
      "X_train:  (172, 47)  X_test:  (20, 47)\n",
      "X_train:  (192, 51)  X_test:  (22, 51)\n",
      "LumA :  (690, 20605)\n",
      "X_train:  (558, 128)  X_test:  (63, 128)\n",
      "X_train:  (621, 139)  X_test:  (69, 139)\n",
      "LumB :  (474, 20605)\n",
      "X_train:  (383, 104)  X_test:  (43, 104)\n",
      "X_train:  (426, 113)  X_test:  (48, 113)\n",
      "Normal :  (147, 20605)\n",
      "X_train:  (118, 38)  X_test:  (14, 38)\n",
      "X_train:  (132, 42)  X_test:  (15, 42)\n",
      "Her2 :  (223, 20605)\n",
      "X_train:  (180, 58)  X_test:  (20, 58)\n",
      "X_train:  (200, 62)  X_test:  (23, 62)\n",
      "Basal :  (209, 20605)\n",
      "X_train:  (169, 57)  X_test:  (19, 57)\n"
     ]
    },
    {
     "name": "stderr",
     "output_type": "stream",
     "text": [
      " 56%|██████████████████████████████████████████████▏                                    | 39/70 [11:55<09:38, 18.66s/it]"
     ]
    },
    {
     "name": "stdout",
     "output_type": "stream",
     "text": [
      "X_train:  (188, 62)  X_test:  (21, 62)\n",
      "NC :  (6, 20605)\n",
      "++++++++++++++++++++++++++++++++++++++++++++++++++++++++++++++++++++++++++++++++++++++++++++++++++++\n",
      "64\n",
      "claudin-low :  (214, 20605)\n",
      "X_train:  (172, 49)  X_test:  (20, 49)\n",
      "X_train:  (192, 54)  X_test:  (22, 54)\n",
      "LumA :  (690, 20605)\n",
      "X_train:  (558, 135)  X_test:  (63, 135)\n",
      "X_train:  (621, 147)  X_test:  (69, 147)\n",
      "LumB :  (474, 20605)\n",
      "X_train:  (383, 109)  X_test:  (43, 109)\n",
      "X_train:  (426, 118)  X_test:  (48, 118)\n",
      "Normal :  (147, 20605)\n",
      "X_train:  (118, 39)  X_test:  (14, 39)\n",
      "X_train:  (132, 43)  X_test:  (15, 43)\n",
      "Her2 :  (223, 20605)\n",
      "X_train:  (180, 60)  X_test:  (20, 60)\n",
      "X_train:  (200, 65)  X_test:  (23, 65)\n",
      "Basal :  (209, 20605)\n",
      "X_train:  (169, 59)  X_test:  (19, 59)\n"
     ]
    },
    {
     "name": "stderr",
     "output_type": "stream",
     "text": [
      " 57%|███████████████████████████████████████████████▍                                   | 40/70 [12:13<09:16, 18.54s/it]"
     ]
    },
    {
     "name": "stdout",
     "output_type": "stream",
     "text": [
      "X_train:  (188, 64)  X_test:  (21, 64)\n",
      "NC :  (6, 20605)\n",
      "++++++++++++++++++++++++++++++++++++++++++++++++++++++++++++++++++++++++++++++++++++++++++++++++++++\n",
      "65\n",
      "claudin-low :  (214, 20605)\n",
      "X_train:  (172, 51)  X_test:  (20, 51)\n",
      "X_train:  (192, 56)  X_test:  (22, 56)\n",
      "LumA :  (690, 20605)\n",
      "X_train:  (558, 142)  X_test:  (63, 142)\n",
      "X_train:  (621, 155)  X_test:  (69, 155)\n",
      "LumB :  (474, 20605)\n",
      "X_train:  (383, 114)  X_test:  (43, 114)\n",
      "X_train:  (426, 124)  X_test:  (48, 124)\n",
      "Normal :  (147, 20605)\n",
      "X_train:  (118, 41)  X_test:  (14, 41)\n",
      "X_train:  (132, 45)  X_test:  (15, 45)\n",
      "Her2 :  (223, 20605)\n",
      "X_train:  (180, 62)  X_test:  (20, 62)\n",
      "X_train:  (200, 67)  X_test:  (23, 67)\n",
      "Basal :  (209, 20605)\n",
      "X_train:  (169, 61)  X_test:  (19, 61)\n"
     ]
    },
    {
     "name": "stderr",
     "output_type": "stream",
     "text": [
      " 59%|████████████████████████████████████████████████▌                                  | 41/70 [12:32<09:02, 18.69s/it]"
     ]
    },
    {
     "name": "stdout",
     "output_type": "stream",
     "text": [
      "X_train:  (188, 66)  X_test:  (21, 66)\n",
      "NC :  (6, 20605)\n",
      "++++++++++++++++++++++++++++++++++++++++++++++++++++++++++++++++++++++++++++++++++++++++++++++++++++\n",
      "66\n",
      "claudin-low :  (214, 20605)\n",
      "X_train:  (172, 54)  X_test:  (20, 54)\n",
      "X_train:  (192, 59)  X_test:  (22, 59)\n",
      "LumA :  (690, 20605)\n",
      "X_train:  (558, 150)  X_test:  (63, 150)\n",
      "X_train:  (621, 163)  X_test:  (69, 163)\n",
      "LumB :  (474, 20605)\n",
      "X_train:  (383, 119)  X_test:  (43, 119)\n",
      "X_train:  (426, 130)  X_test:  (48, 130)\n",
      "Normal :  (147, 20605)\n",
      "X_train:  (118, 42)  X_test:  (14, 42)\n",
      "X_train:  (132, 47)  X_test:  (15, 47)\n",
      "Her2 :  (223, 20605)\n",
      "X_train:  (180, 65)  X_test:  (20, 65)\n",
      "X_train:  (200, 70)  X_test:  (23, 70)\n",
      "Basal :  (209, 20605)\n",
      "X_train:  (169, 63)  X_test:  (19, 63)\n"
     ]
    },
    {
     "name": "stderr",
     "output_type": "stream",
     "text": [
      " 60%|█████████████████████████████████████████████████▊                                 | 42/70 [12:51<08:39, 18.57s/it]"
     ]
    },
    {
     "name": "stdout",
     "output_type": "stream",
     "text": [
      "X_train:  (188, 69)  X_test:  (21, 69)\n",
      "NC :  (6, 20605)\n",
      "++++++++++++++++++++++++++++++++++++++++++++++++++++++++++++++++++++++++++++++++++++++++++++++++++++\n",
      "67\n",
      "claudin-low :  (214, 20605)\n",
      "X_train:  (172, 56)  X_test:  (20, 56)\n",
      "X_train:  (192, 61)  X_test:  (22, 61)\n",
      "LumA :  (690, 20605)\n",
      "X_train:  (558, 158)  X_test:  (63, 158)\n",
      "X_train:  (621, 172)  X_test:  (69, 172)\n",
      "LumB :  (474, 20605)\n",
      "X_train:  (383, 125)  X_test:  (43, 125)\n",
      "X_train:  (426, 135)  X_test:  (48, 135)\n",
      "Normal :  (147, 20605)\n",
      "X_train:  (118, 44)  X_test:  (14, 44)\n",
      "X_train:  (132, 49)  X_test:  (15, 49)\n",
      "Her2 :  (223, 20605)\n",
      "X_train:  (180, 67)  X_test:  (20, 67)\n",
      "X_train:  (200, 73)  X_test:  (23, 73)\n",
      "Basal :  (209, 20605)\n",
      "X_train:  (169, 65)  X_test:  (19, 65)\n"
     ]
    },
    {
     "name": "stderr",
     "output_type": "stream",
     "text": [
      " 61%|██████████████████████████████████████████████████▉                                | 43/70 [13:09<08:23, 18.66s/it]"
     ]
    },
    {
     "name": "stdout",
     "output_type": "stream",
     "text": [
      "X_train:  (188, 71)  X_test:  (21, 71)\n",
      "NC :  (6, 20605)\n",
      "++++++++++++++++++++++++++++++++++++++++++++++++++++++++++++++++++++++++++++++++++++++++++++++++++++\n",
      "68\n",
      "claudin-low :  (214, 20605)\n",
      "X_train:  (172, 58)  X_test:  (20, 58)\n",
      "X_train:  (192, 64)  X_test:  (22, 64)\n",
      "LumA :  (690, 20605)\n",
      "X_train:  (558, 166)  X_test:  (63, 166)\n",
      "X_train:  (621, 181)  X_test:  (69, 181)\n",
      "LumB :  (474, 20605)\n",
      "X_train:  (383, 130)  X_test:  (43, 130)\n",
      "X_train:  (426, 141)  X_test:  (48, 141)\n",
      "Normal :  (147, 20605)\n",
      "X_train:  (118, 45)  X_test:  (14, 45)\n",
      "X_train:  (132, 50)  X_test:  (15, 50)\n",
      "Her2 :  (223, 20605)\n",
      "X_train:  (180, 70)  X_test:  (20, 70)\n",
      "X_train:  (200, 75)  X_test:  (23, 75)\n",
      "Basal :  (209, 20605)\n",
      "X_train:  (169, 68)  X_test:  (19, 68)\n"
     ]
    },
    {
     "name": "stderr",
     "output_type": "stream",
     "text": [
      " 63%|████████████████████████████████████████████████████▏                              | 44/70 [13:29<08:10, 18.86s/it]"
     ]
    },
    {
     "name": "stdout",
     "output_type": "stream",
     "text": [
      "X_train:  (188, 74)  X_test:  (21, 74)\n",
      "NC :  (6, 20605)\n",
      "++++++++++++++++++++++++++++++++++++++++++++++++++++++++++++++++++++++++++++++++++++++++++++++++++++\n",
      "69\n",
      "claudin-low :  (214, 20605)\n",
      "X_train:  (172, 61)  X_test:  (20, 61)\n",
      "X_train:  (192, 66)  X_test:  (22, 66)\n",
      "LumA :  (690, 20605)\n",
      "X_train:  (558, 174)  X_test:  (63, 174)\n",
      "X_train:  (621, 190)  X_test:  (69, 190)\n",
      "LumB :  (474, 20605)\n",
      "X_train:  (383, 136)  X_test:  (43, 136)\n",
      "X_train:  (426, 148)  X_test:  (48, 148)\n",
      "Normal :  (147, 20605)\n",
      "X_train:  (118, 47)  X_test:  (14, 47)\n",
      "X_train:  (132, 52)  X_test:  (15, 52)\n",
      "Her2 :  (223, 20605)\n",
      "X_train:  (180, 72)  X_test:  (20, 72)\n",
      "X_train:  (200, 78)  X_test:  (23, 78)\n",
      "Basal :  (209, 20605)\n",
      "X_train:  (169, 70)  X_test:  (19, 70)\n"
     ]
    },
    {
     "name": "stderr",
     "output_type": "stream",
     "text": [
      " 64%|█████████████████████████████████████████████████████▎                             | 45/70 [13:47<07:48, 18.74s/it]"
     ]
    },
    {
     "name": "stdout",
     "output_type": "stream",
     "text": [
      "X_train:  (188, 76)  X_test:  (21, 76)\n",
      "NC :  (6, 20605)\n",
      "++++++++++++++++++++++++++++++++++++++++++++++++++++++++++++++++++++++++++++++++++++++++++++++++++++\n",
      "70\n",
      "claudin-low :  (214, 20605)\n",
      "X_train:  (172, 63)  X_test:  (20, 63)\n",
      "X_train:  (192, 69)  X_test:  (22, 69)\n",
      "LumA :  (690, 20605)\n",
      "X_train:  (558, 182)  X_test:  (63, 182)\n",
      "X_train:  (621, 200)  X_test:  (69, 200)\n",
      "LumB :  (474, 20605)\n",
      "X_train:  (383, 141)  X_test:  (43, 141)\n",
      "X_train:  (426, 154)  X_test:  (48, 154)\n",
      "Normal :  (147, 20605)\n",
      "X_train:  (118, 49)  X_test:  (14, 49)\n",
      "X_train:  (132, 54)  X_test:  (15, 54)\n",
      "Her2 :  (223, 20605)\n",
      "X_train:  (180, 75)  X_test:  (20, 75)\n",
      "X_train:  (200, 81)  X_test:  (23, 81)\n",
      "Basal :  (209, 20605)\n",
      "X_train:  (169, 72)  X_test:  (19, 72)\n"
     ]
    },
    {
     "name": "stderr",
     "output_type": "stream",
     "text": [
      " 66%|██████████████████████████████████████████████████████▌                            | 46/70 [14:07<07:33, 18.91s/it]"
     ]
    },
    {
     "name": "stdout",
     "output_type": "stream",
     "text": [
      "X_train:  (188, 79)  X_test:  (21, 79)\n",
      "NC :  (6, 20605)\n",
      "++++++++++++++++++++++++++++++++++++++++++++++++++++++++++++++++++++++++++++++++++++++++++++++++++++\n",
      "71\n",
      "claudin-low :  (214, 20605)\n",
      "X_train:  (172, 66)  X_test:  (20, 66)\n",
      "X_train:  (192, 72)  X_test:  (22, 72)\n",
      "LumA :  (690, 20605)\n",
      "X_train:  (558, 191)  X_test:  (63, 191)\n",
      "X_train:  (621, 209)  X_test:  (69, 209)\n",
      "LumB :  (474, 20605)\n",
      "X_train:  (383, 147)  X_test:  (43, 147)\n",
      "X_train:  (426, 160)  X_test:  (48, 160)\n",
      "Normal :  (147, 20605)\n",
      "X_train:  (118, 50)  X_test:  (14, 50)\n",
      "X_train:  (132, 56)  X_test:  (15, 56)\n",
      "Her2 :  (223, 20605)\n",
      "X_train:  (180, 77)  X_test:  (20, 77)\n",
      "X_train:  (200, 84)  X_test:  (23, 84)\n",
      "Basal :  (209, 20605)\n",
      "X_train:  (169, 75)  X_test:  (19, 75)\n"
     ]
    },
    {
     "name": "stderr",
     "output_type": "stream",
     "text": [
      " 67%|███████████████████████████████████████████████████████▋                           | 47/70 [14:25<07:14, 18.91s/it]"
     ]
    },
    {
     "name": "stdout",
     "output_type": "stream",
     "text": [
      "X_train:  (188, 82)  X_test:  (21, 82)\n",
      "NC :  (6, 20605)\n",
      "++++++++++++++++++++++++++++++++++++++++++++++++++++++++++++++++++++++++++++++++++++++++++++++++++++\n",
      "72\n",
      "claudin-low :  (214, 20605)\n",
      "X_train:  (172, 68)  X_test:  (20, 68)\n",
      "X_train:  (192, 75)  X_test:  (22, 75)\n",
      "LumA :  (690, 20605)\n",
      "X_train:  (558, 200)  X_test:  (63, 200)\n",
      "X_train:  (621, 219)  X_test:  (69, 219)\n",
      "LumB :  (474, 20605)\n",
      "X_train:  (383, 153)  X_test:  (43, 153)\n",
      "X_train:  (426, 167)  X_test:  (48, 167)\n",
      "Normal :  (147, 20605)\n",
      "X_train:  (118, 52)  X_test:  (14, 52)\n",
      "X_train:  (132, 58)  X_test:  (15, 58)\n",
      "Her2 :  (223, 20605)\n",
      "X_train:  (180, 80)  X_test:  (20, 80)\n",
      "X_train:  (200, 87)  X_test:  (23, 87)\n",
      "Basal :  (209, 20605)\n",
      "X_train:  (169, 77)  X_test:  (19, 77)\n"
     ]
    },
    {
     "name": "stderr",
     "output_type": "stream",
     "text": [
      " 69%|████████████████████████████████████████████████████████▉                          | 48/70 [14:45<06:59, 19.07s/it]"
     ]
    },
    {
     "name": "stdout",
     "output_type": "stream",
     "text": [
      "X_train:  (188, 84)  X_test:  (21, 84)\n",
      "NC :  (6, 20605)\n",
      "++++++++++++++++++++++++++++++++++++++++++++++++++++++++++++++++++++++++++++++++++++++++++++++++++++\n",
      "73\n",
      "claudin-low :  (214, 20605)\n",
      "X_train:  (172, 71)  X_test:  (20, 71)\n",
      "X_train:  (192, 78)  X_test:  (22, 78)\n",
      "LumA :  (690, 20605)\n",
      "X_train:  (558, 209)  X_test:  (63, 209)\n",
      "X_train:  (621, 229)  X_test:  (69, 229)\n",
      "LumB :  (474, 20605)\n",
      "X_train:  (383, 159)  X_test:  (43, 159)\n",
      "X_train:  (426, 174)  X_test:  (48, 174)\n",
      "Normal :  (147, 20605)\n",
      "X_train:  (118, 54)  X_test:  (14, 54)\n",
      "X_train:  (132, 60)  X_test:  (15, 60)\n",
      "Her2 :  (223, 20605)\n",
      "X_train:  (180, 83)  X_test:  (20, 83)\n",
      "X_train:  (200, 90)  X_test:  (23, 90)\n",
      "Basal :  (209, 20605)\n",
      "X_train:  (169, 80)  X_test:  (19, 80)\n"
     ]
    },
    {
     "name": "stderr",
     "output_type": "stream",
     "text": [
      " 70%|██████████████████████████████████████████████████████████                         | 49/70 [15:04<06:41, 19.10s/it]"
     ]
    },
    {
     "name": "stdout",
     "output_type": "stream",
     "text": [
      "X_train:  (188, 87)  X_test:  (21, 87)\n",
      "NC :  (6, 20605)\n",
      "++++++++++++++++++++++++++++++++++++++++++++++++++++++++++++++++++++++++++++++++++++++++++++++++++++\n",
      "74\n",
      "claudin-low :  (214, 20605)\n",
      "X_train:  (172, 74)  X_test:  (20, 74)\n",
      "X_train:  (192, 81)  X_test:  (22, 81)\n",
      "LumA :  (690, 20605)\n",
      "X_train:  (558, 218)  X_test:  (63, 218)\n",
      "X_train:  (621, 240)  X_test:  (69, 240)\n",
      "LumB :  (474, 20605)\n",
      "X_train:  (383, 165)  X_test:  (43, 165)\n",
      "X_train:  (426, 181)  X_test:  (48, 181)\n",
      "Normal :  (147, 20605)\n",
      "X_train:  (118, 56)  X_test:  (14, 56)\n",
      "X_train:  (132, 62)  X_test:  (15, 62)\n",
      "Her2 :  (223, 20605)\n",
      "X_train:  (180, 86)  X_test:  (20, 86)\n",
      "X_train:  (200, 93)  X_test:  (23, 93)\n",
      "Basal :  (209, 20605)\n",
      "X_train:  (169, 82)  X_test:  (19, 82)\n"
     ]
    },
    {
     "name": "stderr",
     "output_type": "stream",
     "text": [
      " 71%|███████████████████████████████████████████████████████████▎                       | 50/70 [15:23<06:21, 19.08s/it]"
     ]
    },
    {
     "name": "stdout",
     "output_type": "stream",
     "text": [
      "X_train:  (188, 90)  X_test:  (21, 90)\n",
      "NC :  (6, 20605)\n",
      "++++++++++++++++++++++++++++++++++++++++++++++++++++++++++++++++++++++++++++++++++++++++++++++++++++\n",
      "75\n",
      "claudin-low :  (214, 20605)\n",
      "X_train:  (172, 76)  X_test:  (20, 76)\n",
      "X_train:  (192, 84)  X_test:  (22, 84)\n",
      "LumA :  (690, 20605)\n",
      "X_train:  (558, 228)  X_test:  (63, 228)\n",
      "X_train:  (621, 250)  X_test:  (69, 250)\n",
      "LumB :  (474, 20605)\n",
      "X_train:  (383, 172)  X_test:  (43, 172)\n",
      "X_train:  (426, 188)  X_test:  (48, 188)\n",
      "Normal :  (147, 20605)\n",
      "X_train:  (118, 57)  X_test:  (14, 57)\n",
      "X_train:  (132, 64)  X_test:  (15, 64)\n",
      "Her2 :  (223, 20605)\n",
      "X_train:  (180, 88)  X_test:  (20, 88)\n",
      "X_train:  (200, 96)  X_test:  (23, 96)\n",
      "Basal :  (209, 20605)\n",
      "X_train:  (169, 85)  X_test:  (19, 85)\n"
     ]
    },
    {
     "name": "stderr",
     "output_type": "stream",
     "text": [
      " 73%|████████████████████████████████████████████████████████████▍                      | 51/70 [15:43<06:08, 19.42s/it]"
     ]
    },
    {
     "name": "stdout",
     "output_type": "stream",
     "text": [
      "X_train:  (188, 93)  X_test:  (21, 93)\n",
      "NC :  (6, 20605)\n",
      "++++++++++++++++++++++++++++++++++++++++++++++++++++++++++++++++++++++++++++++++++++++++++++++++++++\n",
      "76\n",
      "claudin-low :  (214, 20605)\n",
      "X_train:  (172, 79)  X_test:  (20, 79)\n",
      "X_train:  (192, 87)  X_test:  (22, 87)\n",
      "LumA :  (690, 20605)\n",
      "X_train:  (558, 238)  X_test:  (63, 238)\n",
      "X_train:  (621, 261)  X_test:  (69, 261)\n",
      "LumB :  (474, 20605)\n",
      "X_train:  (383, 178)  X_test:  (43, 178)\n",
      "X_train:  (426, 195)  X_test:  (48, 195)\n",
      "Normal :  (147, 20605)\n",
      "X_train:  (118, 59)  X_test:  (14, 59)\n",
      "X_train:  (132, 66)  X_test:  (15, 66)\n",
      "Her2 :  (223, 20605)\n",
      "X_train:  (180, 91)  X_test:  (20, 91)\n",
      "X_train:  (200, 100)  X_test:  (23, 100)\n",
      "Basal :  (209, 20605)\n",
      "X_train:  (169, 87)  X_test:  (19, 87)\n"
     ]
    },
    {
     "name": "stderr",
     "output_type": "stream",
     "text": [
      " 74%|█████████████████████████████████████████████████████████████▋                     | 52/70 [16:02<05:46, 19.23s/it]"
     ]
    },
    {
     "name": "stdout",
     "output_type": "stream",
     "text": [
      "X_train:  (188, 96)  X_test:  (21, 96)\n",
      "NC :  (6, 20605)\n",
      "++++++++++++++++++++++++++++++++++++++++++++++++++++++++++++++++++++++++++++++++++++++++++++++++++++\n",
      "77\n",
      "claudin-low :  (214, 20605)\n",
      "X_train:  (172, 82)  X_test:  (20, 82)\n",
      "X_train:  (192, 91)  X_test:  (22, 91)\n",
      "LumA :  (690, 20605)\n",
      "X_train:  (558, 247)  X_test:  (63, 247)\n",
      "X_train:  (621, 272)  X_test:  (69, 272)\n",
      "LumB :  (474, 20605)\n",
      "X_train:  (383, 184)  X_test:  (43, 184)\n",
      "X_train:  (426, 202)  X_test:  (48, 202)\n",
      "Normal :  (147, 20605)\n",
      "X_train:  (118, 61)  X_test:  (14, 61)\n",
      "X_train:  (132, 68)  X_test:  (15, 68)\n",
      "Her2 :  (223, 20605)\n",
      "X_train:  (180, 94)  X_test:  (20, 94)\n",
      "X_train:  (200, 103)  X_test:  (23, 103)\n",
      "Basal :  (209, 20605)\n",
      "X_train:  (169, 90)  X_test:  (19, 90)\n"
     ]
    },
    {
     "name": "stderr",
     "output_type": "stream",
     "text": [
      " 76%|██████████████████████████████████████████████████████████████▊                    | 53/70 [16:20<05:21, 18.90s/it]"
     ]
    },
    {
     "name": "stdout",
     "output_type": "stream",
     "text": [
      "X_train:  (188, 99)  X_test:  (21, 99)\n",
      "NC :  (6, 20605)\n",
      "++++++++++++++++++++++++++++++++++++++++++++++++++++++++++++++++++++++++++++++++++++++++++++++++++++\n",
      "78\n",
      "claudin-low :  (214, 20605)\n",
      "X_train:  (172, 85)  X_test:  (20, 85)\n",
      "X_train:  (192, 94)  X_test:  (22, 94)\n",
      "LumA :  (690, 20605)\n",
      "X_train:  (558, 258)  X_test:  (63, 258)\n",
      "X_train:  (621, 283)  X_test:  (69, 283)\n",
      "LumB :  (474, 20605)\n",
      "X_train:  (383, 191)  X_test:  (43, 191)\n",
      "X_train:  (426, 210)  X_test:  (48, 210)\n",
      "Normal :  (147, 20605)\n",
      "X_train:  (118, 63)  X_test:  (14, 63)\n",
      "X_train:  (132, 70)  X_test:  (15, 70)\n",
      "Her2 :  (223, 20605)\n",
      "X_train:  (180, 97)  X_test:  (20, 97)\n",
      "X_train:  (200, 106)  X_test:  (23, 106)\n",
      "Basal :  (209, 20605)\n",
      "X_train:  (169, 93)  X_test:  (19, 93)\n"
     ]
    },
    {
     "name": "stderr",
     "output_type": "stream",
     "text": [
      " 77%|████████████████████████████████████████████████████████████████                   | 54/70 [16:39<05:03, 18.97s/it]"
     ]
    },
    {
     "name": "stdout",
     "output_type": "stream",
     "text": [
      "X_train:  (188, 102)  X_test:  (21, 102)\n",
      "NC :  (6, 20605)\n",
      "++++++++++++++++++++++++++++++++++++++++++++++++++++++++++++++++++++++++++++++++++++++++++++++++++++\n",
      "79\n",
      "claudin-low :  (214, 20605)\n",
      "X_train:  (172, 88)  X_test:  (20, 88)\n",
      "X_train:  (192, 97)  X_test:  (22, 97)\n",
      "LumA :  (690, 20605)\n",
      "X_train:  (558, 268)  X_test:  (63, 268)\n",
      "X_train:  (621, 295)  X_test:  (69, 295)\n",
      "LumB :  (474, 20605)\n",
      "X_train:  (383, 198)  X_test:  (43, 198)\n",
      "X_train:  (426, 217)  X_test:  (48, 217)\n",
      "Normal :  (147, 20605)\n",
      "X_train:  (118, 65)  X_test:  (14, 65)\n",
      "X_train:  (132, 72)  X_test:  (15, 72)\n",
      "Her2 :  (223, 20605)\n",
      "X_train:  (180, 100)  X_test:  (20, 100)\n",
      "X_train:  (200, 110)  X_test:  (23, 110)\n",
      "Basal :  (209, 20605)\n",
      "X_train:  (169, 96)  X_test:  (19, 96)\n"
     ]
    },
    {
     "name": "stderr",
     "output_type": "stream",
     "text": [
      " 79%|█████████████████████████████████████████████████████████████████▏                 | 55/70 [16:58<04:42, 18.82s/it]"
     ]
    },
    {
     "name": "stdout",
     "output_type": "stream",
     "text": [
      "X_train:  (188, 105)  X_test:  (21, 105)\n",
      "NC :  (6, 20605)\n",
      "++++++++++++++++++++++++++++++++++++++++++++++++++++++++++++++++++++++++++++++++++++++++++++++++++++\n",
      "80\n",
      "claudin-low :  (214, 20605)\n",
      "X_train:  (172, 91)  X_test:  (20, 91)\n",
      "X_train:  (192, 101)  X_test:  (22, 101)\n",
      "LumA :  (690, 20605)\n",
      "X_train:  (558, 279)  X_test:  (63, 279)\n",
      "X_train:  (621, 307)  X_test:  (69, 307)\n",
      "LumB :  (474, 20605)\n",
      "X_train:  (383, 205)  X_test:  (43, 205)\n",
      "X_train:  (426, 225)  X_test:  (48, 225)\n",
      "Normal :  (147, 20605)\n",
      "X_train:  (118, 67)  X_test:  (14, 67)\n",
      "X_train:  (132, 75)  X_test:  (15, 75)\n",
      "Her2 :  (223, 20605)\n",
      "X_train:  (180, 103)  X_test:  (20, 103)\n",
      "X_train:  (200, 113)  X_test:  (23, 113)\n",
      "Basal :  (209, 20605)\n",
      "X_train:  (169, 98)  X_test:  (19, 98)\n"
     ]
    },
    {
     "name": "stderr",
     "output_type": "stream",
     "text": [
      " 80%|██████████████████████████████████████████████████████████████████▍                | 56/70 [17:19<04:31, 19.39s/it]"
     ]
    },
    {
     "name": "stdout",
     "output_type": "stream",
     "text": [
      "X_train:  (188, 108)  X_test:  (21, 108)\n",
      "NC :  (6, 20605)\n",
      "++++++++++++++++++++++++++++++++++++++++++++++++++++++++++++++++++++++++++++++++++++++++++++++++++++\n",
      "81\n",
      "claudin-low :  (214, 20605)\n",
      "X_train:  (172, 94)  X_test:  (20, 94)\n",
      "X_train:  (192, 105)  X_test:  (22, 105)\n",
      "LumA :  (690, 20605)\n",
      "X_train:  (558, 289)  X_test:  (63, 289)\n",
      "X_train:  (621, 319)  X_test:  (69, 319)\n",
      "LumB :  (474, 20605)\n",
      "X_train:  (383, 212)  X_test:  (43, 212)\n",
      "X_train:  (426, 233)  X_test:  (48, 233)\n",
      "Normal :  (147, 20605)\n",
      "X_train:  (118, 69)  X_test:  (14, 69)\n",
      "X_train:  (132, 77)  X_test:  (15, 77)\n",
      "Her2 :  (223, 20605)\n",
      "X_train:  (180, 107)  X_test:  (20, 107)\n",
      "X_train:  (200, 117)  X_test:  (23, 117)\n",
      "Basal :  (209, 20605)\n",
      "X_train:  (169, 101)  X_test:  (19, 101)\n"
     ]
    },
    {
     "name": "stderr",
     "output_type": "stream",
     "text": [
      " 81%|███████████████████████████████████████████████████████████████████▌               | 57/70 [17:40<04:19, 19.96s/it]"
     ]
    },
    {
     "name": "stdout",
     "output_type": "stream",
     "text": [
      "X_train:  (188, 111)  X_test:  (21, 111)\n",
      "NC :  (6, 20605)\n",
      "++++++++++++++++++++++++++++++++++++++++++++++++++++++++++++++++++++++++++++++++++++++++++++++++++++\n",
      "82\n",
      "claudin-low :  (214, 20605)\n",
      "X_train:  (172, 98)  X_test:  (20, 98)\n",
      "X_train:  (192, 108)  X_test:  (22, 108)\n",
      "LumA :  (690, 20605)\n",
      "X_train:  (558, 300)  X_test:  (63, 300)\n",
      "X_train:  (621, 331)  X_test:  (69, 331)\n",
      "LumB :  (474, 20605)\n",
      "X_train:  (383, 219)  X_test:  (43, 219)\n",
      "X_train:  (426, 241)  X_test:  (48, 241)\n",
      "Normal :  (147, 20605)\n",
      "X_train:  (118, 71)  X_test:  (14, 71)\n",
      "X_train:  (132, 79)  X_test:  (15, 79)\n",
      "Her2 :  (223, 20605)\n",
      "X_train:  (180, 110)  X_test:  (20, 110)\n",
      "X_train:  (200, 120)  X_test:  (23, 120)\n",
      "Basal :  (209, 20605)\n",
      "X_train:  (169, 104)  X_test:  (19, 104)\n",
      "X_train:  (188, 115)  X_test:  (21, 115)\n",
      "NC :  (6, 20605)\n"
     ]
    },
    {
     "name": "stderr",
     "output_type": "stream",
     "text": [
      " 83%|████████████████████████████████████████████████████████████████████▊              | 58/70 [18:00<03:59, 19.96s/it]"
     ]
    },
    {
     "name": "stdout",
     "output_type": "stream",
     "text": [
      "++++++++++++++++++++++++++++++++++++++++++++++++++++++++++++++++++++++++++++++++++++++++++++++++++++\n",
      "83\n",
      "claudin-low :  (214, 20605)\n",
      "X_train:  (172, 101)  X_test:  (20, 101)\n",
      "X_train:  (192, 112)  X_test:  (22, 112)\n",
      "LumA :  (690, 20605)\n",
      "X_train:  (558, 312)  X_test:  (63, 312)\n",
      "X_train:  (621, 344)  X_test:  (69, 344)\n",
      "LumB :  (474, 20605)\n",
      "X_train:  (383, 227)  X_test:  (43, 227)\n",
      "X_train:  (426, 249)  X_test:  (48, 249)\n",
      "Normal :  (147, 20605)\n",
      "X_train:  (118, 73)  X_test:  (14, 73)\n",
      "X_train:  (132, 82)  X_test:  (15, 82)\n",
      "Her2 :  (223, 20605)\n",
      "X_train:  (180, 113)  X_test:  (20, 113)\n",
      "X_train:  (200, 124)  X_test:  (23, 124)\n",
      "Basal :  (209, 20605)\n",
      "X_train:  (169, 107)  X_test:  (19, 107)\n"
     ]
    },
    {
     "name": "stderr",
     "output_type": "stream",
     "text": [
      " 84%|█████████████████████████████████████████████████████████████████████▉             | 59/70 [18:19<03:37, 19.80s/it]"
     ]
    },
    {
     "name": "stdout",
     "output_type": "stream",
     "text": [
      "X_train:  (188, 118)  X_test:  (21, 118)\n",
      "NC :  (6, 20605)\n",
      "++++++++++++++++++++++++++++++++++++++++++++++++++++++++++++++++++++++++++++++++++++++++++++++++++++\n",
      "84\n",
      "claudin-low :  (214, 20605)\n",
      "X_train:  (172, 104)  X_test:  (20, 104)\n",
      "X_train:  (192, 116)  X_test:  (22, 116)\n",
      "LumA :  (690, 20605)\n",
      "X_train:  (558, 323)  X_test:  (63, 323)\n",
      "X_train:  (621, 357)  X_test:  (69, 357)\n",
      "LumB :  (474, 20605)\n",
      "X_train:  (383, 234)  X_test:  (43, 234)\n",
      "X_train:  (426, 258)  X_test:  (48, 258)\n",
      "Normal :  (147, 20605)\n",
      "X_train:  (118, 75)  X_test:  (14, 75)\n",
      "X_train:  (132, 84)  X_test:  (15, 84)\n",
      "Her2 :  (223, 20605)\n",
      "X_train:  (180, 116)  X_test:  (20, 116)\n",
      "X_train:  (200, 128)  X_test:  (23, 128)\n",
      "Basal :  (209, 20605)\n",
      "X_train:  (169, 110)  X_test:  (19, 110)\n"
     ]
    },
    {
     "name": "stderr",
     "output_type": "stream",
     "text": [
      " 86%|███████████████████████████████████████████████████████████████████████▏           | 60/70 [18:39<03:18, 19.87s/it]"
     ]
    },
    {
     "name": "stdout",
     "output_type": "stream",
     "text": [
      "X_train:  (188, 122)  X_test:  (21, 122)\n",
      "NC :  (6, 20605)\n",
      "++++++++++++++++++++++++++++++++++++++++++++++++++++++++++++++++++++++++++++++++++++++++++++++++++++\n",
      "85\n",
      "claudin-low :  (214, 20605)\n",
      "X_train:  (172, 108)  X_test:  (20, 108)\n",
      "X_train:  (192, 120)  X_test:  (22, 120)\n",
      "LumA :  (690, 20605)\n",
      "X_train:  (558, 335)  X_test:  (63, 335)\n",
      "X_train:  (621, 370)  X_test:  (69, 370)\n",
      "LumB :  (474, 20605)\n",
      "X_train:  (383, 242)  X_test:  (43, 242)\n",
      "X_train:  (426, 267)  X_test:  (48, 267)\n",
      "Normal :  (147, 20605)\n",
      "X_train:  (118, 77)  X_test:  (14, 77)\n",
      "X_train:  (132, 86)  X_test:  (15, 86)\n",
      "Her2 :  (223, 20605)\n",
      "X_train:  (180, 120)  X_test:  (20, 120)\n",
      "X_train:  (200, 131)  X_test:  (23, 131)\n",
      "Basal :  (209, 20605)\n",
      "X_train:  (169, 113)  X_test:  (19, 113)\n"
     ]
    },
    {
     "name": "stderr",
     "output_type": "stream",
     "text": [
      " 87%|████████████████████████████████████████████████████████████████████████▎          | 61/70 [18:59<02:58, 19.83s/it]"
     ]
    },
    {
     "name": "stdout",
     "output_type": "stream",
     "text": [
      "X_train:  (188, 125)  X_test:  (21, 125)\n",
      "NC :  (6, 20605)\n",
      "++++++++++++++++++++++++++++++++++++++++++++++++++++++++++++++++++++++++++++++++++++++++++++++++++++\n",
      "86\n",
      "claudin-low :  (214, 20605)\n",
      "X_train:  (172, 111)  X_test:  (20, 111)\n",
      "X_train:  (192, 124)  X_test:  (22, 124)\n",
      "LumA :  (690, 20605)\n",
      "X_train:  (558, 347)  X_test:  (63, 347)\n",
      "X_train:  (621, 384)  X_test:  (69, 384)\n",
      "LumB :  (474, 20605)\n",
      "X_train:  (383, 250)  X_test:  (43, 250)\n",
      "X_train:  (426, 275)  X_test:  (48, 275)\n",
      "Normal :  (147, 20605)\n",
      "X_train:  (118, 80)  X_test:  (14, 80)\n",
      "X_train:  (132, 89)  X_test:  (15, 89)\n",
      "Her2 :  (223, 20605)\n",
      "X_train:  (180, 123)  X_test:  (20, 123)\n",
      "X_train:  (200, 135)  X_test:  (23, 135)\n",
      "Basal :  (209, 20605)\n",
      "X_train:  (169, 116)  X_test:  (19, 116)\n"
     ]
    },
    {
     "name": "stderr",
     "output_type": "stream",
     "text": [
      " 89%|█████████████████████████████████████████████████████████████████████████▌         | 62/70 [19:18<02:36, 19.60s/it]"
     ]
    },
    {
     "name": "stdout",
     "output_type": "stream",
     "text": [
      "X_train:  (188, 129)  X_test:  (21, 129)\n",
      "NC :  (6, 20605)\n",
      "++++++++++++++++++++++++++++++++++++++++++++++++++++++++++++++++++++++++++++++++++++++++++++++++++++\n",
      "87\n",
      "claudin-low :  (214, 20605)\n",
      "X_train:  (172, 115)  X_test:  (20, 115)\n",
      "X_train:  (192, 128)  X_test:  (22, 128)\n",
      "LumA :  (690, 20605)\n",
      "X_train:  (558, 360)  X_test:  (63, 360)\n",
      "X_train:  (621, 397)  X_test:  (69, 397)\n",
      "LumB :  (474, 20605)\n",
      "X_train:  (383, 258)  X_test:  (43, 258)\n",
      "X_train:  (426, 284)  X_test:  (48, 284)\n",
      "Normal :  (147, 20605)\n",
      "X_train:  (118, 82)  X_test:  (14, 82)\n",
      "X_train:  (132, 91)  X_test:  (15, 91)\n",
      "Her2 :  (223, 20605)\n",
      "X_train:  (180, 127)  X_test:  (20, 127)\n",
      "X_train:  (200, 139)  X_test:  (23, 139)\n",
      "Basal :  (209, 20605)\n",
      "X_train:  (169, 120)  X_test:  (19, 120)\n"
     ]
    },
    {
     "name": "stderr",
     "output_type": "stream",
     "text": [
      " 90%|██████████████████████████████████████████████████████████████████████████▋        | 63/70 [19:38<02:16, 19.56s/it]"
     ]
    },
    {
     "name": "stdout",
     "output_type": "stream",
     "text": [
      "X_train:  (188, 132)  X_test:  (21, 132)\n",
      "NC :  (6, 20605)\n",
      "++++++++++++++++++++++++++++++++++++++++++++++++++++++++++++++++++++++++++++++++++++++++++++++++++++\n",
      "88\n",
      "claudin-low :  (214, 20605)\n",
      "X_train:  (172, 119)  X_test:  (20, 119)\n",
      "X_train:  (192, 132)  X_test:  (22, 132)\n",
      "LumA :  (690, 20605)\n",
      "X_train:  (558, 372)  X_test:  (63, 372)\n",
      "X_train:  (621, 412)  X_test:  (69, 412)\n",
      "LumB :  (474, 20605)\n",
      "X_train:  (383, 266)  X_test:  (43, 266)\n",
      "X_train:  (426, 293)  X_test:  (48, 293)\n",
      "Normal :  (147, 20605)\n",
      "X_train:  (118, 84)  X_test:  (14, 84)\n",
      "X_train:  (132, 94)  X_test:  (15, 94)\n",
      "Her2 :  (223, 20605)\n",
      "X_train:  (180, 130)  X_test:  (20, 130)\n",
      "X_train:  (200, 143)  X_test:  (23, 143)\n",
      "Basal :  (209, 20605)\n",
      "X_train:  (169, 123)  X_test:  (19, 123)\n"
     ]
    },
    {
     "name": "stderr",
     "output_type": "stream",
     "text": [
      " 91%|███████████████████████████████████████████████████████████████████████████▉       | 64/70 [19:57<01:56, 19.48s/it]"
     ]
    },
    {
     "name": "stdout",
     "output_type": "stream",
     "text": [
      "X_train:  (188, 136)  X_test:  (21, 136)\n",
      "NC :  (6, 20605)\n",
      "++++++++++++++++++++++++++++++++++++++++++++++++++++++++++++++++++++++++++++++++++++++++++++++++++++\n",
      "89\n",
      "claudin-low :  (214, 20605)\n",
      "X_train:  (172, 122)  X_test:  (20, 122)\n",
      "X_train:  (192, 136)  X_test:  (22, 136)\n",
      "LumA :  (690, 20605)\n",
      "X_train:  (558, 385)  X_test:  (63, 385)\n",
      "X_train:  (621, 426)  X_test:  (69, 426)\n",
      "LumB :  (474, 20605)\n",
      "X_train:  (383, 274)  X_test:  (43, 274)\n",
      "X_train:  (426, 303)  X_test:  (48, 303)\n",
      "Normal :  (147, 20605)\n",
      "X_train:  (118, 87)  X_test:  (14, 87)\n",
      "X_train:  (132, 97)  X_test:  (15, 97)\n",
      "Her2 :  (223, 20605)\n",
      "X_train:  (180, 134)  X_test:  (20, 134)\n",
      "X_train:  (200, 147)  X_test:  (23, 147)\n",
      "Basal :  (209, 20605)\n",
      "X_train:  (169, 126)  X_test:  (19, 126)\n"
     ]
    },
    {
     "name": "stderr",
     "output_type": "stream",
     "text": [
      " 93%|█████████████████████████████████████████████████████████████████████████████      | 65/70 [20:17<01:38, 19.67s/it]"
     ]
    },
    {
     "name": "stdout",
     "output_type": "stream",
     "text": [
      "X_train:  (188, 140)  X_test:  (21, 140)\n",
      "NC :  (6, 20605)\n",
      "++++++++++++++++++++++++++++++++++++++++++++++++++++++++++++++++++++++++++++++++++++++++++++++++++++\n",
      "90\n",
      "claudin-low :  (214, 20605)\n",
      "X_train:  (172, 126)  X_test:  (20, 126)\n",
      "X_train:  (192, 140)  X_test:  (22, 140)\n",
      "LumA :  (690, 20605)\n",
      "X_train:  (558, 399)  X_test:  (63, 399)\n",
      "X_train:  (621, 441)  X_test:  (69, 441)\n",
      "LumB :  (474, 20605)\n",
      "X_train:  (383, 282)  X_test:  (43, 282)\n",
      "X_train:  (426, 312)  X_test:  (48, 312)\n",
      "Normal :  (147, 20605)\n",
      "X_train:  (118, 89)  X_test:  (14, 89)\n",
      "X_train:  (132, 99)  X_test:  (15, 99)\n",
      "Her2 :  (223, 20605)\n",
      "X_train:  (180, 137)  X_test:  (20, 137)\n",
      "X_train:  (200, 152)  X_test:  (23, 152)\n",
      "Basal :  (209, 20605)\n",
      "X_train:  (169, 130)  X_test:  (19, 130)\n"
     ]
    },
    {
     "name": "stderr",
     "output_type": "stream",
     "text": [
      " 94%|██████████████████████████████████████████████████████████████████████████████▎    | 66/70 [20:38<01:20, 20.02s/it]"
     ]
    },
    {
     "name": "stdout",
     "output_type": "stream",
     "text": [
      "X_train:  (188, 144)  X_test:  (21, 144)\n",
      "NC :  (6, 20605)\n",
      "++++++++++++++++++++++++++++++++++++++++++++++++++++++++++++++++++++++++++++++++++++++++++++++++++++\n",
      "91\n",
      "claudin-low :  (214, 20605)\n",
      "X_train:  (172, 130)  X_test:  (20, 130)\n",
      "X_train:  (192, 145)  X_test:  (22, 145)\n",
      "LumA :  (690, 20605)\n",
      "X_train:  (558, 412)  X_test:  (63, 412)\n",
      "X_train:  (621, 456)  X_test:  (69, 456)\n",
      "LumB :  (474, 20605)\n",
      "X_train:  (383, 291)  X_test:  (43, 291)\n",
      "X_train:  (426, 322)  X_test:  (48, 322)\n",
      "Normal :  (147, 20605)\n",
      "X_train:  (118, 91)  X_test:  (14, 91)\n",
      "X_train:  (132, 102)  X_test:  (15, 102)\n",
      "Her2 :  (223, 20605)\n",
      "X_train:  (180, 141)  X_test:  (20, 141)\n",
      "X_train:  (200, 156)  X_test:  (23, 156)\n",
      "Basal :  (209, 20605)\n",
      "X_train:  (169, 133)  X_test:  (19, 133)\n"
     ]
    },
    {
     "name": "stderr",
     "output_type": "stream",
     "text": [
      " 96%|███████████████████████████████████████████████████████████████████████████████▍   | 67/70 [20:57<00:59, 19.75s/it]"
     ]
    },
    {
     "name": "stdout",
     "output_type": "stream",
     "text": [
      "X_train:  (188, 147)  X_test:  (21, 147)\n",
      "NC :  (6, 20605)\n",
      "++++++++++++++++++++++++++++++++++++++++++++++++++++++++++++++++++++++++++++++++++++++++++++++++++++\n",
      "92\n",
      "claudin-low :  (214, 20605)\n",
      "X_train:  (172, 134)  X_test:  (20, 134)\n",
      "X_train:  (192, 149)  X_test:  (22, 149)\n",
      "LumA :  (690, 20605)\n",
      "X_train:  (558, 426)  X_test:  (63, 426)\n",
      "X_train:  (621, 472)  X_test:  (69, 472)\n",
      "LumB :  (474, 20605)\n",
      "X_train:  (383, 300)  X_test:  (43, 300)\n",
      "X_train:  (426, 332)  X_test:  (48, 332)\n",
      "Normal :  (147, 20605)\n",
      "X_train:  (118, 94)  X_test:  (14, 94)\n",
      "X_train:  (132, 105)  X_test:  (15, 105)\n",
      "Her2 :  (223, 20605)\n",
      "X_train:  (180, 145)  X_test:  (20, 145)\n",
      "X_train:  (200, 160)  X_test:  (23, 160)\n",
      "Basal :  (209, 20605)\n",
      "X_train:  (169, 137)  X_test:  (19, 137)\n",
      "X_train:  (188, 151)  X_test:  (21, 151)\n"
     ]
    },
    {
     "name": "stderr",
     "output_type": "stream",
     "text": [
      " 97%|████████████████████████████████████████████████████████████████████████████████▋  | 68/70 [21:17<00:39, 19.96s/it]"
     ]
    },
    {
     "name": "stdout",
     "output_type": "stream",
     "text": [
      "NC :  (6, 20605)\n",
      "++++++++++++++++++++++++++++++++++++++++++++++++++++++++++++++++++++++++++++++++++++++++++++++++++++\n",
      "93\n",
      "claudin-low :  (214, 20605)\n",
      "X_train:  (172, 138)  X_test:  (20, 138)\n",
      "X_train:  (192, 154)  X_test:  (22, 154)\n",
      "LumA :  (690, 20605)\n",
      "X_train:  (558, 441)  X_test:  (63, 441)\n",
      "X_train:  (621, 488)  X_test:  (69, 488)\n",
      "LumB :  (474, 20605)\n",
      "X_train:  (383, 309)  X_test:  (43, 309)\n",
      "X_train:  (426, 342)  X_test:  (48, 342)\n",
      "Normal :  (147, 20605)\n",
      "X_train:  (118, 97)  X_test:  (14, 97)\n",
      "X_train:  (132, 108)  X_test:  (15, 108)\n",
      "Her2 :  (223, 20605)\n",
      "X_train:  (180, 149)  X_test:  (20, 149)\n",
      "X_train:  (200, 165)  X_test:  (23, 165)\n",
      "Basal :  (209, 20605)\n",
      "X_train:  (169, 140)  X_test:  (19, 140)\n"
     ]
    },
    {
     "name": "stderr",
     "output_type": "stream",
     "text": [
      " 99%|█████████████████████████████████████████████████████████████████████████████████▊ | 69/70 [21:38<00:20, 20.26s/it]"
     ]
    },
    {
     "name": "stdout",
     "output_type": "stream",
     "text": [
      "X_train:  (188, 156)  X_test:  (21, 156)\n",
      "NC :  (6, 20605)\n",
      "++++++++++++++++++++++++++++++++++++++++++++++++++++++++++++++++++++++++++++++++++++++++++++++++++++\n",
      "94\n",
      "claudin-low :  (214, 20605)\n",
      "X_train:  (172, 142)  X_test:  (20, 142)\n",
      "X_train:  (192, 159)  X_test:  (22, 159)\n",
      "LumA :  (690, 20605)\n",
      "X_train:  (558, 456)  X_test:  (63, 456)\n",
      "X_train:  (621, 505)  X_test:  (69, 505)\n",
      "LumB :  (474, 20605)\n",
      "X_train:  (383, 319)  X_test:  (43, 319)\n",
      "X_train:  (426, 353)  X_test:  (48, 353)\n",
      "Normal :  (147, 20605)\n",
      "X_train:  (118, 99)  X_test:  (14, 99)\n",
      "X_train:  (132, 111)  X_test:  (15, 111)\n",
      "Her2 :  (223, 20605)\n",
      "X_train:  (180, 153)  X_test:  (20, 153)\n",
      "X_train:  (200, 169)  X_test:  (23, 169)\n",
      "Basal :  (209, 20605)\n",
      "X_train:  (169, 144)  X_test:  (19, 144)\n",
      "X_train:  (188, 160)  X_test:  (21, 160)\n",
      "NC :  (6, 20605)\n"
     ]
    },
    {
     "name": "stderr",
     "output_type": "stream",
     "text": [
      "100%|███████████████████████████████████████████████████████████████████████████████████| 70/70 [21:59<00:00, 18.84s/it]\n"
     ]
    }
   ],
   "source": [
    "for p in tqdm(range(25, 95)):\n",
    "    print(\"++++++++++\" * 10)\n",
    "    print(p)\n",
    "    PCA_PERCENTILE = p\n",
    "    loop_preprocess()"
   ]
  },
  {
   "cell_type": "code",
   "execution_count": 14,
   "id": "c7eef2ac-d2d4-4b53-9931-25aaecf52c1b",
   "metadata": {},
   "outputs": [],
   "source": [
    "def apply_preprocess2late_recurrences(\n",
    "    df: pd.DataFrame(),\n",
    "    preprocess_pipeline_path: str,\n",
    "    save_file_path: str = None,\n",
    "):\n",
    "    _df = df.copy()\n",
    "    _X = _df.drop(TARGET_NAME, axis=1)\n",
    "    _y = _df[TARGET_NAME]\n",
    "\n",
    "    # 検証用、テスト用それぞれのセットへのパイプラインの適用\n",
    "    _preprocess_pipeline = functions.pickle_load(\n",
    "        preprocess_pipeline_path + \"/preprocess_pipeline.pkl\"\n",
    "    )\n",
    "    display(_X.shape)\n",
    "    _X = _preprocess_pipeline.transform(_X)\n",
    "    display(_X.shape)\n",
    "\n",
    "    # 保存\n",
    "    if save_file_path:\n",
    "        functions.make_dir(save_file_path)\n",
    "        functions.pickle_dump(_X, save_file_path + \"/X.pkl\")\n",
    "        functions.pickle_dump(_y, save_file_path + \"/y.pkl\")"
   ]
  },
  {
   "cell_type": "code",
   "execution_count": 15,
   "id": "b031b9e6-5e1a-40ba-ad09-3d5f2243a021",
   "metadata": {},
   "outputs": [],
   "source": [
    "def loop_late_recurrences_data():\n",
    "    # 層別化する特徴量\n",
    "    subgroup_columns = [\n",
    "        \"CLAUDIN_SUBTYPE\",\n",
    "        # \"THREEGENE\",\n",
    "    ]\n",
    "    # 遺伝子発現量以外の特徴量を削除\n",
    "    drop_columns = [\n",
    "        \"CLAUDIN_SUBTYPE\",\n",
    "        \"THREEGENE\",\n",
    "    ]\n",
    "\n",
    "    preprocess_order_dicts = [\n",
    "        {\n",
    "            \"preprocess_name\": \"preprocess4numeric_pca{0}\".format(PCA_PERCENTILE),\n",
    "        }\n",
    "    ]\n",
    "    val_step = \"test_set\"\n",
    "\n",
    "    for subgroup_column in subgroup_columns:  # 各サブグループへの適用\n",
    "        for subgroup in df_recurrenced[subgroup_column].unique():  # サブグループの要素毎への適用\n",
    "            df = df_recurrenced[df_recurrenced[subgroup_column] == subgroup].drop(\n",
    "                drop_columns, axis=1\n",
    "            )\n",
    "            df = df[(df.RFS_STATUS == True) & (df.RFS_MONTHS > 60)]\n",
    "            if df.shape[0] < 5:\n",
    "                continue\n",
    "\n",
    "            print(subgroup, \": \", df.shape)\n",
    "            for preprocess_order_dict in preprocess_order_dicts:\n",
    "                subgroup_path = \"./{0}/{1}/{2}/{3}\".format(\n",
    "                    subgroup_column,\n",
    "                    subgroup,\n",
    "                    preprocess_order_dict[\"preprocess_name\"],\n",
    "                    val_step,\n",
    "                )\n",
    "                input_pipe_path = \"./{0}/{1}/{2}\".format(\n",
    "                    config.INTERIM_PREPROCESSED_RECURRENCE_DIR, subgroup_path, \"train\"\n",
    "                )\n",
    "                output_data_path = \"./{0}/{1}/{2}\".format(\n",
    "                    config.INTERIM_PREPROCESSED_RECURRENCE_DIR,\n",
    "                    subgroup_path,\n",
    "                    \"late_recurrences\",\n",
    "                )\n",
    "                apply_preprocess2late_recurrences(df, input_pipe_path, output_data_path)"
   ]
  },
  {
   "cell_type": "code",
   "execution_count": 17,
   "id": "7e9bf990-c989-460e-95e9-95a41397aa7e",
   "metadata": {
    "tags": []
   },
   "outputs": [
    {
     "name": "stderr",
     "output_type": "stream",
     "text": [
      "  0%|                                                                                             | 0/1 [00:00<?, ?it/s]"
     ]
    },
    {
     "name": "stdout",
     "output_type": "stream",
     "text": [
      "++++++++++++++++++++++++++++++++++++++++++++++++++++++++++++++++++++++++++++++++++++++++++++++++++++\n",
      "25\n",
      "claudin-low :  (23, 20605)\n"
     ]
    },
    {
     "data": {
      "text/plain": [
       "(23, 20603)"
      ]
     },
     "metadata": {},
     "output_type": "display_data"
    },
    {
     "data": {
      "text/plain": [
       "(23, 5)"
      ]
     },
     "metadata": {},
     "output_type": "display_data"
    },
    {
     "name": "stdout",
     "output_type": "stream",
     "text": [
      "LumA :  (122, 20605)\n"
     ]
    },
    {
     "data": {
      "text/plain": [
       "(122, 20603)"
      ]
     },
     "metadata": {},
     "output_type": "display_data"
    },
    {
     "data": {
      "text/plain": [
       "(122, 9)"
      ]
     },
     "metadata": {},
     "output_type": "display_data"
    },
    {
     "name": "stdout",
     "output_type": "stream",
     "text": [
      "LumB :  (89, 20605)\n"
     ]
    },
    {
     "data": {
      "text/plain": [
       "(89, 20603)"
      ]
     },
     "metadata": {},
     "output_type": "display_data"
    },
    {
     "data": {
      "text/plain": [
       "(89, 9)"
      ]
     },
     "metadata": {},
     "output_type": "display_data"
    },
    {
     "name": "stdout",
     "output_type": "stream",
     "text": [
      "Normal :  (28, 20605)\n"
     ]
    },
    {
     "data": {
      "text/plain": [
       "(28, 20603)"
      ]
     },
     "metadata": {},
     "output_type": "display_data"
    },
    {
     "data": {
      "text/plain": [
       "(28, 6)"
      ]
     },
     "metadata": {},
     "output_type": "display_data"
    },
    {
     "name": "stdout",
     "output_type": "stream",
     "text": [
      "Her2 :  (31, 20605)\n"
     ]
    },
    {
     "data": {
      "text/plain": [
       "(31, 20603)"
      ]
     },
     "metadata": {},
     "output_type": "display_data"
    },
    {
     "data": {
      "text/plain": [
       "(31, 6)"
      ]
     },
     "metadata": {},
     "output_type": "display_data"
    },
    {
     "name": "stdout",
     "output_type": "stream",
     "text": [
      "Basal :  (9, 20605)\n"
     ]
    },
    {
     "data": {
      "text/plain": [
       "(9, 20603)"
      ]
     },
     "metadata": {},
     "output_type": "display_data"
    },
    {
     "data": {
      "text/plain": [
       "(9, 8)"
      ]
     },
     "metadata": {},
     "output_type": "display_data"
    },
    {
     "name": "stderr",
     "output_type": "stream",
     "text": [
      "100%|█████████████████████████████████████████████████████████████████████████████████████| 1/1 [00:01<00:00,  1.94s/it]\n"
     ]
    }
   ],
   "source": [
    "# 実施したい前処理パイプラインの定義\n",
    "for p in tqdm(range(25, 26)):\n",
    "    print(\"++++++++++\" * 10)\n",
    "    print(p)\n",
    "    PCA_PERCENTILE = p\n",
    "    loop_late_recurrences_data()"
   ]
  },
  {
   "cell_type": "markdown",
   "id": "bdd72851-d28f-4873-88df-933874b7a113",
   "metadata": {},
   "source": [
    "# recheck data shape"
   ]
  },
  {
   "cell_type": "code",
   "execution_count": 18,
   "id": "04b0879c-4d2c-467a-9146-06aa5402506d",
   "metadata": {},
   "outputs": [
    {
     "data": {
      "text/plain": [
       "(1963, 20607)"
      ]
     },
     "execution_count": 18,
     "metadata": {},
     "output_type": "execute_result"
    }
   ],
   "source": [
    "df_recurrenced.shape"
   ]
  },
  {
   "cell_type": "code",
   "execution_count": 19,
   "id": "da2cba26-6e40-4795-bc30-018035b77570",
   "metadata": {},
   "outputs": [
    {
     "data": {
      "text/plain": [
       "False    1166\n",
       "True      797\n",
       "Name: RFS_STATUS, dtype: int64"
      ]
     },
     "execution_count": 19,
     "metadata": {},
     "output_type": "execute_result"
    }
   ],
   "source": [
    "df_recurrenced.RFS_STATUS.value_counts()"
   ]
  },
  {
   "cell_type": "code",
   "execution_count": 20,
   "id": "71e0af69-7715-462f-8cd1-83b92ee03038",
   "metadata": {},
   "outputs": [
    {
     "data": {
      "text/plain": [
       "CLAUDIN_SUBTYPE  RFS_STATUS\n",
       "Basal            False         116\n",
       "                 True           93\n",
       "Her2             True          115\n",
       "                 False         108\n",
       "LumA             False         462\n",
       "                 True          228\n",
       "LumB             False         247\n",
       "                 True          227\n",
       "NC               False           3\n",
       "                 True            3\n",
       "Normal           False          82\n",
       "                 True           65\n",
       "claudin-low      False         148\n",
       "                 True           66\n",
       "Name: RFS_STATUS, dtype: int64"
      ]
     },
     "execution_count": 20,
     "metadata": {},
     "output_type": "execute_result"
    }
   ],
   "source": [
    "df_recurrenced.groupby(\"CLAUDIN_SUBTYPE\").RFS_STATUS.value_counts()"
   ]
  },
  {
   "cell_type": "code",
   "execution_count": 21,
   "id": "65ec25b2-b67a-4a9f-98dd-3a74ee01b26d",
   "metadata": {},
   "outputs": [
    {
     "data": {
      "text/plain": [
       "CLAUDIN_SUBTYPE  RFS_STATUS\n",
       "Basal            True            9\n",
       "Her2             True           31\n",
       "LumA             True          122\n",
       "LumB             True           89\n",
       "NC               True            1\n",
       "Normal           True           28\n",
       "claudin-low      True           23\n",
       "Name: RFS_STATUS, dtype: int64"
      ]
     },
     "execution_count": 21,
     "metadata": {},
     "output_type": "execute_result"
    }
   ],
   "source": [
    "df_recurrenced[\n",
    "    (df_recurrenced.RFS_MONTHS > 60) & (df_recurrenced.RFS_STATUS == True)\n",
    "].groupby(\"CLAUDIN_SUBTYPE\").RFS_STATUS.value_counts()"
   ]
  },
  {
   "cell_type": "code",
   "execution_count": 22,
   "id": "2d7afb0e-6d2c-4dd1-81bf-99e4cbaa637c",
   "metadata": {},
   "outputs": [
    {
     "data": {
      "text/plain": [
       "CLAUDIN_SUBTYPE  RFS_STATUS\n",
       "Basal            True           93\n",
       "Her2             True          115\n",
       "LumA             True          228\n",
       "LumB             True          227\n",
       "NC               True            3\n",
       "Normal           True           65\n",
       "claudin-low      True           66\n",
       "Name: RFS_STATUS, dtype: int64"
      ]
     },
     "execution_count": 22,
     "metadata": {},
     "output_type": "execute_result"
    }
   ],
   "source": [
    "df_recurrenced[(df_recurrenced.RFS_STATUS == True)].groupby(\n",
    "    \"CLAUDIN_SUBTYPE\"\n",
    ").RFS_STATUS.value_counts()"
   ]
  },
  {
   "cell_type": "code",
   "execution_count": null,
   "id": "a1fa2fcb-8de2-4a0c-8eae-33847c0bbe90",
   "metadata": {},
   "outputs": [],
   "source": []
  }
 ],
 "metadata": {
  "kernelspec": {
   "display_name": "Python 3 (ipykernel)",
   "language": "python",
   "name": "python3"
  },
  "language_info": {
   "codemirror_mode": {
    "name": "ipython",
    "version": 3
   },
   "file_extension": ".py",
   "mimetype": "text/x-python",
   "name": "python",
   "nbconvert_exporter": "python",
   "pygments_lexer": "ipython3",
   "version": "3.8.16"
  },
  "vscode": {
   "interpreter": {
    "hash": "729c6a008c18e950aab0d645a0c3f05ac225e5f880cd403acd3456b69cf9d2f2"
   }
  }
 },
 "nbformat": 4,
 "nbformat_minor": 5
}
